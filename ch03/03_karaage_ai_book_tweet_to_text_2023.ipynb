{
  "nbformat": 4,
  "nbformat_minor": 0,
  "metadata": {
    "colab": {
      "provenance": [],
      "authorship_tag": "ABX9TyNqLBiQthygEDTIcMFQBEkc",
      "include_colab_link": true
    },
    "kernelspec": {
      "name": "python3",
      "display_name": "Python 3"
    }
  },
  "cells": [
    {
      "cell_type": "markdown",
      "metadata": {
        "id": "view-in-github",
        "colab_type": "text"
      },
      "source": [
        "<a href=\"https://colab.research.google.com/github/karaage0703/karaage-ai-book/blob/master/ch03/03_karaage_ai_book_tweet_to_text_2023.ipynb\" target=\"_parent\"><img src=\"https://colab.research.google.com/assets/colab-badge.svg\" alt=\"Open In Colab\"/></a>"
      ]
    },
    {
      "cell_type": "markdown",
      "metadata": {
        "id": "Y0d0qaUe38iZ"
      },
      "source": [
        "# Twitterのアーカイブをテキストデータへ変換\n",
        "\n",
        "Twitterのアーカイブをテキストデータへ変換するためのNotebookです。\n",
        "\n",
        "2023年7月時点のアーカイブデータに対するプログラムです。"
      ]
    },
    {
      "cell_type": "markdown",
      "metadata": {
        "id": "rdjqbWwuqzWH"
      },
      "source": [
        "## ツイートデータの変換\n"
      ]
    },
    {
      "cell_type": "markdown",
      "metadata": {
        "id": "e1n2nNOsrQmg"
      },
      "source": [
        "ツイートデータ(tweet.js)のアップロード"
      ]
    },
    {
      "cell_type": "code",
      "metadata": {
        "id": "PXq7ECWTtwSW"
      },
      "source": [
        "from google.colab import files\n",
        "uploaded = files.upload()"
      ],
      "execution_count": null,
      "outputs": []
    },
    {
      "cell_type": "markdown",
      "metadata": {
        "id": "Vn_FWwdgRVM4"
      },
      "source": [
        "ファイルが重い場合はGoogle Driveにアップロードしてから読み込みましょう"
      ]
    },
    {
      "cell_type": "code",
      "metadata": {
        "id": "J2Uz0LOlTLsD"
      },
      "source": [
        "from google.colab import drive\n",
        "drive.mount('/content/drive')"
      ],
      "execution_count": null,
      "outputs": []
    },
    {
      "cell_type": "markdown",
      "metadata": {
        "id": "mwi9MSI8TmI1"
      },
      "source": [
        "マイドライブからコピーしましょう（以下はMy Driveにtwitterdataというフォルダを作成してその中に tweet.jsを置いておいた場合の例です）。"
      ]
    },
    {
      "cell_type": "code",
      "metadata": {
        "id": "eJibUhSqTRTi"
      },
      "source": [
        "!cp /content/drive/MyDrive/twitterdata/tweet.js /content/"
      ],
      "execution_count": null,
      "outputs": []
    },
    {
      "cell_type": "markdown",
      "metadata": {
        "id": "jbo-tNzDR2yk"
      },
      "source": [
        "ツイートを変換します。\n",
        "\n",
        "最新（2023年7月時点）のTwitterアーカイブデータでは、以下のような独自の前処理が必要です。\n",
        "\n",
        "このコードは、ChatGPT Code Interpreterにより生成されました。"
      ]
    },
    {
      "cell_type": "code",
      "source": [
        "# Define a function to adjust the data\n",
        "def adjust_data(file_path):\n",
        "    # Open the file\n",
        "    with open(file_path, 'r') as file:\n",
        "        # Skip the first line\n",
        "        next(file)\n",
        "        # Initialize the adjusted data\n",
        "        adjusted_data = '['\n",
        "        for line in file:\n",
        "            # If the line is the end of a tweet object\n",
        "            if line.strip() == '  }':\n",
        "                # Add a comma to the end\n",
        "                adjusted_data += line[:-1] + ',\\n'\n",
        "            else:\n",
        "                # Otherwise, add the line to the adjusted data\n",
        "                adjusted_data += line\n",
        "        # Remove the last comma and add the end bracket\n",
        "        adjusted_data = adjusted_data[:-2] + '\\n]'\n",
        "        return adjusted_data"
      ],
      "metadata": {
        "id": "FvLacxLHFQwx"
      },
      "execution_count": null,
      "outputs": []
    },
    {
      "cell_type": "markdown",
      "source": [
        "データを読み込みます。"
      ],
      "metadata": {
        "id": "vx05xDyAL9aD"
      }
    },
    {
      "cell_type": "code",
      "metadata": {
        "id": "-xDeVm5IVk8G"
      },
      "source": [
        "import json\n",
        "import re\n",
        "\n",
        "tweet_jsons = adjust_data('tweets.js')\n",
        "tweet_jsons = json.loads(tweet_jsons)\n",
        "tweet_jsons = [tweet for tweet in tweet_jsons if not tweet['tweet']['full_text'].startswith('RT @')]\n",
        "\n",
        "analysis_tweet = '\\n'.join(tweet['tweet']['full_text'] for tweet in tweet_jsons)"
      ],
      "execution_count": null,
      "outputs": []
    },
    {
      "cell_type": "code",
      "source": [
        "analysis_tweet[0:100]"
      ],
      "metadata": {
        "id": "i1y0ptcmKOgE"
      },
      "execution_count": null,
      "outputs": []
    },
    {
      "cell_type": "markdown",
      "metadata": {
        "id": "HeZc9kJzpDFh"
      },
      "source": [
        "テキストファイルに保存します"
      ]
    },
    {
      "cell_type": "code",
      "metadata": {
        "id": "hvHooFKinGCb"
      },
      "source": [
        "with open('analysis_tweet.txt', 'w', encoding='utf-8') as f:\n",
        "    f.write(analysis_tweet)\n",
        "print(\"file is saved\")"
      ],
      "execution_count": null,
      "outputs": []
    },
    {
      "cell_type": "markdown",
      "metadata": {
        "id": "XzLgGfZSR-v-"
      },
      "source": [
        "テキストファイルをダウンロードします。"
      ]
    },
    {
      "cell_type": "code",
      "metadata": {
        "id": "FQV-8cb59SOs"
      },
      "source": [
        "from google.colab import files\n",
        "files.download('analysis_tweet.txt')"
      ],
      "execution_count": null,
      "outputs": []
    },
    {
      "cell_type": "markdown",
      "metadata": {
        "id": "qKsAr2AYncvJ"
      },
      "source": [
        "Google Driveを使用する場合は、以下です。"
      ]
    },
    {
      "cell_type": "code",
      "metadata": {
        "id": "JAXXcg_6ncBX"
      },
      "source": [
        "!cp /content/analysis_tweet.txt /content/drive/MyDrive/twitterdata/analysis_tweet.txt"
      ],
      "execution_count": null,
      "outputs": []
    },
    {
      "cell_type": "markdown",
      "metadata": {
        "id": "D49IDoWAbD5v"
      },
      "source": [
        "# 参考リンク\n",
        "\n",
        "https://qiita.com/kenkensz9/items/48a87c01d327aba8ccf6"
      ]
    }
  ]
}