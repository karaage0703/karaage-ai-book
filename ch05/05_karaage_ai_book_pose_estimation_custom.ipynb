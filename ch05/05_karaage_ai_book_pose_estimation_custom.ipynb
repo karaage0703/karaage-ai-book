{
  "nbformat": 4,
  "nbformat_minor": 0,
  "metadata": {
    "colab": {
      "name": "05_karaage_ai_book_pose_estimation_custom.ipynb",
      "provenance": [],
      "collapsed_sections": [],
      "authorship_tag": "ABX9TyPYa5kd0rbvBOQTcKGjTw0S",
      "include_colab_link": true
    },
    "kernelspec": {
      "name": "python3",
      "display_name": "Python 3"
    },
    "accelerator": "GPU"
  },
  "cells": [
    {
      "cell_type": "markdown",
      "metadata": {
        "id": "view-in-github",
        "colab_type": "text"
      },
      "source": [
        "<a href=\"https://colab.research.google.com/github/karaage0703/karaage-ai-book/blob/master/ch05/05_karaage_ai_book_pose_estimation_custom.ipynb\" target=\"_parent\"><img src=\"https://colab.research.google.com/assets/colab-badge.svg\" alt=\"Open In Colab\"/></a>"
      ]
    },
    {
      "cell_type": "markdown",
      "metadata": {
        "id": "M4La5Okqbnq8"
      },
      "source": [
        "# AIを使った姿勢推定技術"
      ]
    },
    {
      "cell_type": "markdown",
      "metadata": {
        "id": "uBQEhb6rh-VE"
      },
      "source": [
        "## 準備"
      ]
    },
    {
      "cell_type": "code",
      "metadata": {
        "colab": {
          "base_uri": "https://localhost:8080/"
        },
        "id": "3lA1zkEgJpLD",
        "outputId": "1674f666-36e6-4b7b-b5e1-ee2b4249dac1"
      },
      "source": [
        "!git clone -b anime https://github.com/karaage0703/tf-pose-estimation"
      ],
      "execution_count": null,
      "outputs": [
        {
          "output_type": "stream",
          "text": [
            "Cloning into 'tf-pose-estimation'...\n",
            "remote: Enumerating objects: 1482, done.\u001b[K\n",
            "remote: Total 1482 (delta 0), reused 0 (delta 0), pack-reused 1482\u001b[K\n",
            "Receiving objects: 100% (1482/1482), 98.34 MiB | 41.35 MiB/s, done.\n",
            "Resolving deltas: 100% (807/807), done.\n"
          ],
          "name": "stdout"
        }
      ]
    },
    {
      "cell_type": "markdown",
      "metadata": {
        "id": "otxYKy9JXdq1"
      },
      "source": [
        "必要なライブラリをセットアップ"
      ]
    },
    {
      "cell_type": "code",
      "metadata": {
        "id": "sRDASpbYXwpW",
        "colab": {
          "base_uri": "https://localhost:8080/"
        },
        "outputId": "25d143d3-3486-4aa3-8cd8-2600e5773334"
      },
      "source": [
        "!sudo apt-get install -y swig\n",
        "%cd /content/tf-pose-estimation/tf_pose/pafprocess\n",
        "!swig -python -c++ pafprocess.i && python3 setup.py build_ext --inplace\n",
        "!pip3 install slidingwindow\n",
        "%cd /content/tf-pose-estimation"
      ],
      "execution_count": null,
      "outputs": [
        {
          "output_type": "stream",
          "text": [
            "Reading package lists... Done\n",
            "Building dependency tree       \n",
            "Reading state information... Done\n",
            "The following additional packages will be installed:\n",
            "  swig3.0\n",
            "Suggested packages:\n",
            "  swig-doc swig-examples swig3.0-examples swig3.0-doc\n",
            "The following NEW packages will be installed:\n",
            "  swig swig3.0\n",
            "0 upgraded, 2 newly installed, 0 to remove and 14 not upgraded.\n",
            "Need to get 1,100 kB of archives.\n",
            "After this operation, 5,822 kB of additional disk space will be used.\n",
            "Get:1 http://archive.ubuntu.com/ubuntu bionic/universe amd64 swig3.0 amd64 3.0.12-1 [1,094 kB]\n",
            "Get:2 http://archive.ubuntu.com/ubuntu bionic/universe amd64 swig amd64 3.0.12-1 [6,460 B]\n",
            "Fetched 1,100 kB in 1s (759 kB/s)\n",
            "debconf: unable to initialize frontend: Dialog\n",
            "debconf: (No usable dialog-like program is installed, so the dialog based frontend cannot be used. at /usr/share/perl5/Debconf/FrontEnd/Dialog.pm line 76, <> line 2.)\n",
            "debconf: falling back to frontend: Readline\n",
            "debconf: unable to initialize frontend: Readline\n",
            "debconf: (This frontend requires a controlling tty.)\n",
            "debconf: falling back to frontend: Teletype\n",
            "dpkg-preconfigure: unable to re-open stdin: \n",
            "Selecting previously unselected package swig3.0.\n",
            "(Reading database ... 144793 files and directories currently installed.)\n",
            "Preparing to unpack .../swig3.0_3.0.12-1_amd64.deb ...\n",
            "Unpacking swig3.0 (3.0.12-1) ...\n",
            "Selecting previously unselected package swig.\n",
            "Preparing to unpack .../swig_3.0.12-1_amd64.deb ...\n",
            "Unpacking swig (3.0.12-1) ...\n",
            "Setting up swig3.0 (3.0.12-1) ...\n",
            "Setting up swig (3.0.12-1) ...\n",
            "Processing triggers for man-db (2.8.3-2ubuntu0.1) ...\n",
            "/content/tf-pose-estimation/tf_pose/pafprocess\n",
            "running build_ext\n",
            "building '_pafprocess' extension\n",
            "swigging pafprocess.i to pafprocess_wrap.cpp\n",
            "swig -python -c++ -o pafprocess_wrap.cpp pafprocess.i\n",
            "creating build\n",
            "creating build/temp.linux-x86_64-3.6\n",
            "x86_64-linux-gnu-gcc -pthread -DNDEBUG -g -fwrapv -O2 -Wall -g -fstack-protector-strong -Wformat -Werror=format-security -Wdate-time -D_FORTIFY_SOURCE=2 -fPIC -I/usr/local/lib/python3.6/dist-packages/numpy/core/include -I. -I/usr/include/python3.6m -c pafprocess.cpp -o build/temp.linux-x86_64-3.6/pafprocess.o\n",
            "x86_64-linux-gnu-gcc -pthread -DNDEBUG -g -fwrapv -O2 -Wall -g -fstack-protector-strong -Wformat -Werror=format-security -Wdate-time -D_FORTIFY_SOURCE=2 -fPIC -I/usr/local/lib/python3.6/dist-packages/numpy/core/include -I. -I/usr/include/python3.6m -c pafprocess_wrap.cpp -o build/temp.linux-x86_64-3.6/pafprocess_wrap.o\n",
            "x86_64-linux-gnu-g++ -pthread -shared -Wl,-O1 -Wl,-Bsymbolic-functions -Wl,-Bsymbolic-functions -Wl,-z,relro -Wl,-Bsymbolic-functions -Wl,-z,relro -g -fstack-protector-strong -Wformat -Werror=format-security -Wdate-time -D_FORTIFY_SOURCE=2 build/temp.linux-x86_64-3.6/pafprocess.o build/temp.linux-x86_64-3.6/pafprocess_wrap.o -o /content/tf-pose-estimation/tf_pose/pafprocess/_pafprocess.cpython-36m-x86_64-linux-gnu.so\n",
            "Collecting slidingwindow\n",
            "  Downloading https://files.pythonhosted.org/packages/9b/80/ce3b1a3a6f940a89da6fcacc20cad3cd9520456fdf85fc18328026973f30/slidingwindow-0.0.14-py3-none-any.whl\n",
            "Requirement already satisfied: numpy in /usr/local/lib/python3.6/dist-packages (from slidingwindow) (1.18.5)\n",
            "Requirement already satisfied: psutil in /usr/local/lib/python3.6/dist-packages (from slidingwindow) (5.4.8)\n",
            "Installing collected packages: slidingwindow\n",
            "Successfully installed slidingwindow-0.0.14\n",
            "/content/tf-pose-estimation\n"
          ],
          "name": "stdout"
        }
      ]
    },
    {
      "cell_type": "markdown",
      "metadata": {
        "id": "P-I4oCRTiLMG"
      },
      "source": [
        "TensorFlowを1.x系に切り替えてインポート"
      ]
    },
    {
      "cell_type": "code",
      "metadata": {
        "id": "VAMLTBYVZcbb",
        "colab": {
          "base_uri": "https://localhost:8080/"
        },
        "outputId": "814a72d8-7195-44ac-d879-8a6834924b0e"
      },
      "source": [
        "!pip install tensorflow-gpu==1.15.2\n",
        "import tensorflow as tf\n",
        "print(tf.__version__)"
      ],
      "execution_count": null,
      "outputs": [
        {
          "output_type": "stream",
          "text": [
            "TensorFlow 1.x selected.\n",
            "1.15.2\n"
          ],
          "name": "stdout"
        }
      ]
    },
    {
      "cell_type": "markdown",
      "metadata": {
        "id": "7DFBLVZEiOnS"
      },
      "source": [
        "必要なライブラリをインポート"
      ]
    },
    {
      "cell_type": "code",
      "metadata": {
        "id": "oTZZPWApZm67",
        "colab": {
          "base_uri": "https://localhost:8080/"
        },
        "outputId": "5dd436f2-91cc-463b-ca9b-148478efa87c"
      },
      "source": [
        "import argparse\n",
        "import logging\n",
        "import sys\n",
        "import time\n",
        "\n",
        "from tf_pose import common\n",
        "import cv2\n",
        "import numpy as np\n",
        "from tf_pose.estimator import TfPoseEstimator\n",
        "from tf_pose.networks import get_graph_path, model_wh\n",
        "\n",
        "import matplotlib.pyplot as plt"
      ],
      "execution_count": null,
      "outputs": [
        {
          "output_type": "stream",
          "text": [
            "WARNING:tensorflow:\n",
            "The TensorFlow contrib module will not be included in TensorFlow 2.0.\n",
            "For more information, please see:\n",
            "  * https://github.com/tensorflow/community/blob/master/rfcs/20180907-contrib-sunset.md\n",
            "  * https://github.com/tensorflow/addons\n",
            "  * https://github.com/tensorflow/io (for I/O related ops)\n",
            "If you depend on functionality not listed there, please file an issue.\n",
            "\n",
            "WARNING:tensorflow:From /content/tf-pose-estimation/tf_pose/mobilenet/mobilenet.py:369: The name tf.nn.avg_pool is deprecated. Please use tf.nn.avg_pool2d instead.\n",
            "\n"
          ],
          "name": "stdout"
        }
      ]
    },
    {
      "cell_type": "markdown",
      "metadata": {
        "id": "Ec_3XePPkkGX"
      },
      "source": [
        "姿勢推定する画像を読み込んで確認します。"
      ]
    },
    {
      "cell_type": "code",
      "metadata": {
        "id": "dhqJDzHBkjRp",
        "colab": {
          "base_uri": "https://localhost:8080/",
          "height": 286
        },
        "outputId": "abd7c3f3-63f1-4184-c761-e6f2a83244fa"
      },
      "source": [
        "image = cv2.imread('./images/p1.jpg')\n",
        "plt.imshow(image[:, :, ::-1])"
      ],
      "execution_count": null,
      "outputs": [
        {
          "output_type": "execute_result",
          "data": {
            "text/plain": [
              "<matplotlib.image.AxesImage at 0x7f230d3c63c8>"
            ]
          },
          "metadata": {
            "tags": []
          },
          "execution_count": 5
        },
        {
          "output_type": "display_data",
          "data": {
            "image/png": "[encoded data removed]",
            "text/plain": [
              "<Figure size 432x288 with 1 Axes>"
            ]
          },
          "metadata": {
            "tags": [],
            "needs_background": "light"
          }
        }
      ]
    },
    {
      "cell_type": "markdown",
      "metadata": {
        "id": "rRn-kr85kVYL"
      },
      "source": [
        "画像から姿勢推定をします。"
      ]
    },
    {
      "cell_type": "code",
      "metadata": {
        "id": "VqfmCfRsaOR4",
        "colab": {
          "base_uri": "https://localhost:8080/"
        },
        "outputId": "ad311b5b-adc8-41b2-de12-8eccc17b5c44"
      },
      "source": [
        "e = TfPoseEstimator(get_graph_path('mobilenet_v2_large'),\n",
        "    target_size=(432, 368))\n",
        "humans = e.inference(image, resize_to_default=1, upsample_size=4)\n",
        "image = TfPoseEstimator.draw_humans(image, humans, imgcopy=False)"
      ],
      "execution_count": null,
      "outputs": [
        {
          "output_type": "stream",
          "text": [
            "[2020-11-18 16:40:17,891] [TfPoseEstimator] [INFO] loading graph from /content/tf-pose-estimation/models/graph/mobilenet_v2_large/graph_opt.pb(default size=432x368)\n",
            "2020-11-18 16:40:17,891 INFO loading graph from /content/tf-pose-estimation/models/graph/mobilenet_v2_large/graph_opt.pb(default size=432x368)\n"
          ],
          "name": "stderr"
        },
        {
          "output_type": "stream",
          "text": [
            "WARNING:tensorflow:From /content/tf-pose-estimation/tf_pose/estimator.py:345: The name tf.gfile.GFile is deprecated. Please use tf.io.gfile.GFile instead.\n",
            "\n"
          ],
          "name": "stdout"
        },
        {
          "output_type": "stream",
          "text": [
            "2020-11-18 16:40:17,893 WARNING From /content/tf-pose-estimation/tf_pose/estimator.py:345: The name tf.gfile.GFile is deprecated. Please use tf.io.gfile.GFile instead.\n",
            "\n"
          ],
          "name": "stderr"
        },
        {
          "output_type": "stream",
          "text": [
            "WARNING:tensorflow:From /content/tf-pose-estimation/tf_pose/estimator.py:346: The name tf.GraphDef is deprecated. Please use tf.compat.v1.GraphDef instead.\n",
            "\n"
          ],
          "name": "stdout"
        },
        {
          "output_type": "stream",
          "text": [
            "2020-11-18 16:40:17,897 WARNING From /content/tf-pose-estimation/tf_pose/estimator.py:346: The name tf.GraphDef is deprecated. Please use tf.compat.v1.GraphDef instead.\n",
            "\n"
          ],
          "name": "stderr"
        },
        {
          "output_type": "stream",
          "text": [
            "WARNING:tensorflow:From /content/tf-pose-estimation/tf_pose/estimator.py:364: The name tf.get_default_graph is deprecated. Please use tf.compat.v1.get_default_graph instead.\n",
            "\n"
          ],
          "name": "stdout"
        },
        {
          "output_type": "stream",
          "text": [
            "2020-11-18 16:40:17,938 WARNING From /content/tf-pose-estimation/tf_pose/estimator.py:364: The name tf.get_default_graph is deprecated. Please use tf.compat.v1.get_default_graph instead.\n",
            "\n"
          ],
          "name": "stderr"
        },
        {
          "output_type": "stream",
          "text": [
            "WARNING:tensorflow:From /content/tf-pose-estimation/tf_pose/estimator.py:366: The name tf.Session is deprecated. Please use tf.compat.v1.Session instead.\n",
            "\n"
          ],
          "name": "stdout"
        },
        {
          "output_type": "stream",
          "text": [
            "2020-11-18 16:40:18,174 WARNING From /content/tf-pose-estimation/tf_pose/estimator.py:366: The name tf.Session is deprecated. Please use tf.compat.v1.Session instead.\n",
            "\n"
          ],
          "name": "stderr"
        },
        {
          "output_type": "stream",
          "text": [
            "TfPoseEstimator/image\n",
            "TfPoseEstimator/MobilenetV2/Conv/BatchNorm/Const\n",
            "TfPoseEstimator/MobilenetV2/Conv/BatchNorm/Const_1\n",
            "TfPoseEstimator/MobilenetV2/expanded_conv/depthwise/BatchNorm/Const\n",
            "TfPoseEstimator/MobilenetV2/expanded_conv/depthwise/BatchNorm/Const_1\n",
            "TfPoseEstimator/MobilenetV2/expanded_conv/project/BatchNorm/Const\n",
            "TfPoseEstimator/MobilenetV2/expanded_conv/project/BatchNorm/Const_1\n",
            "TfPoseEstimator/MobilenetV2/expanded_conv_1/expand/BatchNorm/Const\n",
            "TfPoseEstimator/MobilenetV2/expanded_conv_1/expand/BatchNorm/Const_1\n",
            "TfPoseEstimator/MobilenetV2/expanded_conv_1/depthwise/BatchNorm/Const\n",
            "TfPoseEstimator/MobilenetV2/expanded_conv_1/depthwise/BatchNorm/Const_1\n",
            "TfPoseEstimator/MobilenetV2/expanded_conv_1/project/BatchNorm/Const\n",
            "TfPoseEstimator/MobilenetV2/expanded_conv_1/project/BatchNorm/Const_1\n",
            "TfPoseEstimator/MobilenetV2/expanded_conv_2/expand/BatchNorm/Const\n",
            "TfPoseEstimator/MobilenetV2/expanded_conv_2/expand/BatchNorm/Const_1\n",
            "TfPoseEstimator/MobilenetV2/expanded_conv_2/depthwise/BatchNorm/Const\n",
            "TfPoseEstimator/MobilenetV2/expanded_conv_2/depthwise/BatchNorm/Const_1\n",
            "TfPoseEstimator/MobilenetV2/expanded_conv_2/project/BatchNorm/Const\n",
            "TfPoseEstimator/MobilenetV2/expanded_conv_2/project/BatchNorm/Const_1\n",
            "TfPoseEstimator/MobilenetV2/expanded_conv_3/expand/BatchNorm/Const\n",
            "TfPoseEstimator/MobilenetV2/expanded_conv_3/expand/BatchNorm/Const_1\n",
            "TfPoseEstimator/MobilenetV2/expanded_conv_3/depthwise/BatchNorm/Const\n",
            "TfPoseEstimator/MobilenetV2/expanded_conv_3/depthwise/BatchNorm/Const_1\n",
            "TfPoseEstimator/MobilenetV2/expanded_conv_3/project/BatchNorm/Const\n",
            "TfPoseEstimator/MobilenetV2/expanded_conv_3/project/BatchNorm/Const_1\n",
            "TfPoseEstimator/MobilenetV2/expanded_conv_4/expand/BatchNorm/Const\n",
            "TfPoseEstimator/MobilenetV2/expanded_conv_4/expand/BatchNorm/Const_1\n",
            "TfPoseEstimator/MobilenetV2/expanded_conv_4/depthwise/BatchNorm/Const\n",
            "TfPoseEstimator/MobilenetV2/expanded_conv_4/depthwise/BatchNorm/Const_1\n",
            "TfPoseEstimator/MobilenetV2/expanded_conv_4/project/BatchNorm/Const\n",
            "TfPoseEstimator/MobilenetV2/expanded_conv_4/project/BatchNorm/Const_1\n",
            "TfPoseEstimator/MobilenetV2/expanded_conv_5/expand/BatchNorm/Const\n",
            "TfPoseEstimator/MobilenetV2/expanded_conv_5/expand/BatchNorm/Const_1\n",
            "TfPoseEstimator/MobilenetV2/expanded_conv_5/depthwise/BatchNorm/Const\n",
            "TfPoseEstimator/MobilenetV2/expanded_conv_5/depthwise/BatchNorm/Const_1\n",
            "TfPoseEstimator/MobilenetV2/expanded_conv_5/project/BatchNorm/Const\n",
            "TfPoseEstimator/MobilenetV2/expanded_conv_5/project/BatchNorm/Const_1\n",
            "TfPoseEstimator/MobilenetV2/expanded_conv_6/expand/BatchNorm/Const\n",
            "TfPoseEstimator/MobilenetV2/expanded_conv_6/expand/BatchNorm/Const_1\n",
            "TfPoseEstimator/MobilenetV2/expanded_conv_6/depthwise/BatchNorm/Const\n",
            "TfPoseEstimator/MobilenetV2/expanded_conv_6/depthwise/BatchNorm/Const_1\n",
            "TfPoseEstimator/MobilenetV2/expanded_conv_6/project/BatchNorm/Const\n",
            "TfPoseEstimator/MobilenetV2/expanded_conv_6/project/BatchNorm/Const_1\n",
            "TfPoseEstimator/MobilenetV2/expanded_conv_7/expand/BatchNorm/Const\n",
            "TfPoseEstimator/MobilenetV2/expanded_conv_7/expand/BatchNorm/Const_1\n",
            "TfPoseEstimator/MobilenetV2/expanded_conv_7/depthwise/BatchNorm/Const\n",
            "TfPoseEstimator/MobilenetV2/expanded_conv_7/depthwise/BatchNorm/Const_1\n",
            "TfPoseEstimator/MobilenetV2/expanded_conv_7/project/BatchNorm/Const\n",
            "TfPoseEstimator/MobilenetV2/expanded_conv_7/project/BatchNorm/Const_1\n",
            "TfPoseEstimator/MobilenetV2/expanded_conv_8/expand/BatchNorm/Const\n",
            "TfPoseEstimator/MobilenetV2/expanded_conv_8/expand/BatchNorm/Const_1\n",
            "TfPoseEstimator/MobilenetV2/expanded_conv_8/depthwise/BatchNorm/Const\n",
            "TfPoseEstimator/MobilenetV2/expanded_conv_8/depthwise/BatchNorm/Const_1\n",
            "TfPoseEstimator/MobilenetV2/expanded_conv_8/project/BatchNorm/Const\n",
            "TfPoseEstimator/MobilenetV2/expanded_conv_8/project/BatchNorm/Const_1\n",
            "TfPoseEstimator/MobilenetV2/expanded_conv_9/expand/BatchNorm/Const\n",
            "TfPoseEstimator/MobilenetV2/expanded_conv_9/expand/BatchNorm/Const_1\n",
            "TfPoseEstimator/MobilenetV2/expanded_conv_9/depthwise/BatchNorm/Const\n",
            "TfPoseEstimator/MobilenetV2/expanded_conv_9/depthwise/BatchNorm/Const_1\n",
            "TfPoseEstimator/MobilenetV2/expanded_conv_9/project/BatchNorm/Const\n",
            "TfPoseEstimator/MobilenetV2/expanded_conv_9/project/BatchNorm/Const_1\n",
            "TfPoseEstimator/MobilenetV2/expanded_conv_10/expand/BatchNorm/Const\n",
            "TfPoseEstimator/MobilenetV2/expanded_conv_10/expand/BatchNorm/Const_1\n",
            "TfPoseEstimator/MobilenetV2/expanded_conv_10/depthwise/BatchNorm/Const\n",
            "TfPoseEstimator/MobilenetV2/expanded_conv_10/depthwise/BatchNorm/Const_1\n",
            "TfPoseEstimator/MobilenetV2/expanded_conv_10/project/BatchNorm/Const\n",
            "TfPoseEstimator/MobilenetV2/expanded_conv_10/project/BatchNorm/Const_1\n",
            "TfPoseEstimator/MobilenetV2/expanded_conv_11/expand/BatchNorm/Const\n",
            "TfPoseEstimator/MobilenetV2/expanded_conv_11/expand/BatchNorm/Const_1\n",
            "TfPoseEstimator/MobilenetV2/expanded_conv_11/depthwise/BatchNorm/Const\n",
            "TfPoseEstimator/MobilenetV2/expanded_conv_11/depthwise/BatchNorm/Const_1\n",
            "TfPoseEstimator/MobilenetV2/expanded_conv_11/project/BatchNorm/Const\n",
            "TfPoseEstimator/MobilenetV2/expanded_conv_11/project/BatchNorm/Const_1\n",
            "TfPoseEstimator/MobilenetV2/expanded_conv_12/expand/BatchNorm/Const\n",
            "TfPoseEstimator/MobilenetV2/expanded_conv_12/expand/BatchNorm/Const_1\n",
            "TfPoseEstimator/MobilenetV2/expanded_conv_12/depthwise/BatchNorm/Const\n",
            "TfPoseEstimator/MobilenetV2/expanded_conv_12/depthwise/BatchNorm/Const_1\n",
            "TfPoseEstimator/MobilenetV2/expanded_conv_12/project/BatchNorm/Const\n",
            "TfPoseEstimator/MobilenetV2/expanded_conv_12/project/BatchNorm/Const_1\n",
            "TfPoseEstimator/strided_slice/stack\n",
            "TfPoseEstimator/strided_slice/stack_1\n",
            "TfPoseEstimator/strided_slice/stack_2\n",
            "TfPoseEstimator/feat_concat/axis\n",
            "TfPoseEstimator/Openpose/MConv_Stage1_L1_1_pointwise/BatchNorm/Const\n",
            "TfPoseEstimator/Openpose/MConv_Stage1_L1_2_pointwise/BatchNorm/Const\n",
            "TfPoseEstimator/Openpose/MConv_Stage1_L1_3_pointwise/BatchNorm/Const\n",
            "TfPoseEstimator/Openpose/MConv_Stage1_L1_4_pointwise/BatchNorm/Const\n",
            "TfPoseEstimator/Openpose/MConv_Stage1_L1_5_pointwise/BatchNorm/Const\n",
            "TfPoseEstimator/Openpose/MConv_Stage1_L2_1_pointwise/BatchNorm/Const\n",
            "TfPoseEstimator/Openpose/MConv_Stage1_L2_2_pointwise/BatchNorm/Const\n",
            "TfPoseEstimator/Openpose/MConv_Stage1_L2_3_pointwise/BatchNorm/Const\n",
            "TfPoseEstimator/Openpose/MConv_Stage1_L2_4_pointwise/BatchNorm/Const\n",
            "TfPoseEstimator/Openpose/MConv_Stage1_L2_5_pointwise/BatchNorm/Const\n",
            "TfPoseEstimator/Openpose/MConv_Stage2_concat/axis\n",
            "TfPoseEstimator/Openpose/MConv_Stage2_L1_1_pointwise/BatchNorm/Const\n",
            "TfPoseEstimator/Openpose/MConv_Stage2_L1_2_pointwise/BatchNorm/Const\n",
            "TfPoseEstimator/Openpose/MConv_Stage2_L1_3_pointwise/BatchNorm/Const\n",
            "TfPoseEstimator/Openpose/MConv_Stage2_L1_4_pointwise/BatchNorm/Const\n",
            "TfPoseEstimator/Openpose/MConv_Stage2_L1_5_pointwise/BatchNorm/Const\n",
            "TfPoseEstimator/Openpose/MConv_Stage2_L2_1_pointwise/BatchNorm/Const\n",
            "TfPoseEstimator/Openpose/MConv_Stage2_L2_2_pointwise/BatchNorm/Const\n",
            "TfPoseEstimator/Openpose/MConv_Stage2_L2_3_pointwise/BatchNorm/Const\n",
            "TfPoseEstimator/Openpose/MConv_Stage2_L2_4_pointwise/BatchNorm/Const\n",
            "TfPoseEstimator/Openpose/MConv_Stage2_L2_5_pointwise/BatchNorm/Const\n",
            "TfPoseEstimator/Openpose/MConv_Stage3_concat/axis\n",
            "TfPoseEstimator/Openpose/MConv_Stage3_L1_1_pointwise/BatchNorm/Const\n",
            "TfPoseEstimator/Openpose/MConv_Stage3_L1_2_pointwise/BatchNorm/Const\n",
            "TfPoseEstimator/Openpose/MConv_Stage3_L1_3_pointwise/BatchNorm/Const\n",
            "TfPoseEstimator/Openpose/MConv_Stage3_L1_4_pointwise/BatchNorm/Const\n",
            "TfPoseEstimator/Openpose/MConv_Stage3_L1_5_pointwise/BatchNorm/Const\n",
            "TfPoseEstimator/Openpose/MConv_Stage3_L2_1_pointwise/BatchNorm/Const\n",
            "TfPoseEstimator/Openpose/MConv_Stage3_L2_2_pointwise/BatchNorm/Const\n",
            "TfPoseEstimator/Openpose/MConv_Stage3_L2_3_pointwise/BatchNorm/Const\n",
            "TfPoseEstimator/Openpose/MConv_Stage3_L2_4_pointwise/BatchNorm/Const\n",
            "TfPoseEstimator/Openpose/MConv_Stage3_L2_5_pointwise/BatchNorm/Const\n",
            "TfPoseEstimator/Openpose/MConv_Stage4_concat/axis\n",
            "TfPoseEstimator/Openpose/MConv_Stage4_L1_1_pointwise/BatchNorm/Const\n",
            "TfPoseEstimator/Openpose/MConv_Stage4_L1_2_pointwise/BatchNorm/Const\n",
            "TfPoseEstimator/Openpose/MConv_Stage4_L1_3_pointwise/BatchNorm/Const\n",
            "TfPoseEstimator/Openpose/MConv_Stage4_L1_4_pointwise/BatchNorm/Const\n",
            "TfPoseEstimator/Openpose/MConv_Stage4_L1_5_pointwise/BatchNorm/Const\n",
            "TfPoseEstimator/Openpose/MConv_Stage4_L2_1_pointwise/BatchNorm/Const\n",
            "TfPoseEstimator/Openpose/MConv_Stage4_L2_2_pointwise/BatchNorm/Const\n",
            "TfPoseEstimator/Openpose/MConv_Stage4_L2_3_pointwise/BatchNorm/Const\n",
            "TfPoseEstimator/Openpose/MConv_Stage4_L2_4_pointwise/BatchNorm/Const\n",
            "TfPoseEstimator/Openpose/MConv_Stage4_L2_5_pointwise/BatchNorm/Const\n",
            "TfPoseEstimator/Openpose/MConv_Stage5_concat/axis\n",
            "TfPoseEstimator/Openpose/MConv_Stage5_L1_1_pointwise/BatchNorm/Const\n",
            "TfPoseEstimator/Openpose/MConv_Stage5_L1_2_pointwise/BatchNorm/Const\n",
            "TfPoseEstimator/Openpose/MConv_Stage5_L1_3_pointwise/BatchNorm/Const\n",
            "TfPoseEstimator/Openpose/MConv_Stage5_L1_4_pointwise/BatchNorm/Const\n",
            "TfPoseEstimator/Openpose/MConv_Stage5_L1_5_pointwise/BatchNorm/Const\n",
            "TfPoseEstimator/Openpose/MConv_Stage5_L2_1_pointwise/BatchNorm/Const\n",
            "TfPoseEstimator/Openpose/MConv_Stage5_L2_2_pointwise/BatchNorm/Const\n",
            "TfPoseEstimator/Openpose/MConv_Stage5_L2_3_pointwise/BatchNorm/Const\n",
            "TfPoseEstimator/Openpose/MConv_Stage5_L2_4_pointwise/BatchNorm/Const\n",
            "TfPoseEstimator/Openpose/MConv_Stage5_L2_5_pointwise/BatchNorm/Const\n",
            "TfPoseEstimator/Openpose/MConv_Stage6_concat/axis\n",
            "TfPoseEstimator/Openpose/MConv_Stage6_L1_1_pointwise/BatchNorm/Const\n",
            "TfPoseEstimator/Openpose/MConv_Stage6_L1_2_pointwise/BatchNorm/Const\n",
            "TfPoseEstimator/Openpose/MConv_Stage6_L1_3_pointwise/BatchNorm/Const\n",
            "TfPoseEstimator/Openpose/MConv_Stage6_L1_4_pointwise/BatchNorm/Const\n",
            "TfPoseEstimator/Openpose/MConv_Stage6_L1_5_pointwise/BatchNorm/Const\n",
            "TfPoseEstimator/Openpose/MConv_Stage6_L2_1_pointwise/BatchNorm/Const\n",
            "TfPoseEstimator/Openpose/MConv_Stage6_L2_2_pointwise/BatchNorm/Const\n",
            "TfPoseEstimator/Openpose/MConv_Stage6_L2_3_pointwise/BatchNorm/Const\n",
            "TfPoseEstimator/Openpose/MConv_Stage6_L2_4_pointwise/BatchNorm/Const\n",
            "TfPoseEstimator/Openpose/MConv_Stage6_L2_5_pointwise/BatchNorm/Const\n",
            "TfPoseEstimator/Openpose/concat_stage7/axis\n",
            "TfPoseEstimator/MobilenetV2/Conv/BatchNorm/beta/read/_0__cf__0\n",
            "TfPoseEstimator/MobilenetV2/Conv/BatchNorm/gamma/read/_1__cf__1\n",
            "TfPoseEstimator/MobilenetV2/Conv/weights/read/_2__cf__2\n",
            "TfPoseEstimator/MobilenetV2/Conv/Conv2D\n",
            "TfPoseEstimator/MobilenetV2/Conv/BatchNorm/FusedBatchNorm\n",
            "TfPoseEstimator/MobilenetV2/Conv/Relu6\n",
            "TfPoseEstimator/MobilenetV2/expanded_conv/depthwise/BatchNorm/beta/read/_3__cf__3\n",
            "TfPoseEstimator/MobilenetV2/expanded_conv/depthwise/BatchNorm/gamma/read/_4__cf__4\n",
            "TfPoseEstimator/MobilenetV2/expanded_conv/depthwise/depthwise_weights/read/_5__cf__5\n",
            "TfPoseEstimator/MobilenetV2/expanded_conv/depthwise/depthwise\n",
            "TfPoseEstimator/MobilenetV2/expanded_conv/depthwise/BatchNorm/FusedBatchNorm\n",
            "TfPoseEstimator/MobilenetV2/expanded_conv/depthwise/Relu6\n",
            "TfPoseEstimator/MobilenetV2/expanded_conv/project/BatchNorm/beta/read/_6__cf__6\n",
            "TfPoseEstimator/MobilenetV2/expanded_conv/project/BatchNorm/gamma/read/_7__cf__7\n",
            "TfPoseEstimator/MobilenetV2/expanded_conv/project/weights/read/_8__cf__8\n",
            "TfPoseEstimator/MobilenetV2/expanded_conv/project/Conv2D\n",
            "TfPoseEstimator/MobilenetV2/expanded_conv/project/BatchNorm/FusedBatchNorm\n",
            "TfPoseEstimator/MobilenetV2/expanded_conv_1/depthwise/BatchNorm/beta/read/_9__cf__9\n",
            "TfPoseEstimator/MobilenetV2/expanded_conv_1/depthwise/BatchNorm/gamma/read/_10__cf__10\n",
            "TfPoseEstimator/MobilenetV2/expanded_conv_1/depthwise/depthwise_weights/read/_11__cf__11\n",
            "TfPoseEstimator/MobilenetV2/expanded_conv_1/expand/BatchNorm/beta/read/_12__cf__12\n",
            "TfPoseEstimator/MobilenetV2/expanded_conv_1/expand/BatchNorm/gamma/read/_13__cf__13\n",
            "TfPoseEstimator/MobilenetV2/expanded_conv_1/expand/weights/read/_14__cf__14\n",
            "TfPoseEstimator/MobilenetV2/expanded_conv_1/expand/Conv2D\n",
            "TfPoseEstimator/MobilenetV2/expanded_conv_1/expand/BatchNorm/FusedBatchNorm\n",
            "TfPoseEstimator/MobilenetV2/expanded_conv_1/expand/Relu6\n",
            "TfPoseEstimator/MobilenetV2/expanded_conv_1/depthwise/depthwise\n",
            "TfPoseEstimator/MobilenetV2/expanded_conv_1/depthwise/BatchNorm/FusedBatchNorm\n",
            "TfPoseEstimator/MobilenetV2/expanded_conv_1/depthwise/Relu6\n",
            "TfPoseEstimator/MobilenetV2/expanded_conv_1/project/BatchNorm/beta/read/_15__cf__15\n",
            "TfPoseEstimator/MobilenetV2/expanded_conv_1/project/BatchNorm/gamma/read/_16__cf__16\n",
            "TfPoseEstimator/MobilenetV2/expanded_conv_1/project/weights/read/_17__cf__17\n",
            "TfPoseEstimator/MobilenetV2/expanded_conv_1/project/Conv2D\n",
            "TfPoseEstimator/MobilenetV2/expanded_conv_1/project/BatchNorm/FusedBatchNorm\n",
            "TfPoseEstimator/MobilenetV2/expanded_conv_10/depthwise/BatchNorm/beta/read/_18__cf__18\n",
            "TfPoseEstimator/MobilenetV2/expanded_conv_10/depthwise/BatchNorm/gamma/read/_19__cf__19\n",
            "TfPoseEstimator/MobilenetV2/expanded_conv_10/depthwise/depthwise_weights/read/_20__cf__20\n",
            "TfPoseEstimator/MobilenetV2/expanded_conv_10/expand/BatchNorm/beta/read/_21__cf__21\n",
            "TfPoseEstimator/MobilenetV2/expanded_conv_10/expand/BatchNorm/gamma/read/_22__cf__22\n",
            "TfPoseEstimator/MobilenetV2/expanded_conv_10/expand/weights/read/_23__cf__23\n",
            "TfPoseEstimator/MobilenetV2/expanded_conv_10/project/BatchNorm/beta/read/_24__cf__24\n",
            "TfPoseEstimator/MobilenetV2/expanded_conv_10/project/BatchNorm/gamma/read/_25__cf__25\n",
            "TfPoseEstimator/MobilenetV2/expanded_conv_10/project/weights/read/_26__cf__26\n",
            "TfPoseEstimator/MobilenetV2/expanded_conv_11/depthwise/BatchNorm/beta/read/_27__cf__27\n",
            "TfPoseEstimator/MobilenetV2/expanded_conv_11/depthwise/BatchNorm/gamma/read/_28__cf__28\n",
            "TfPoseEstimator/MobilenetV2/expanded_conv_11/depthwise/depthwise_weights/read/_29__cf__29\n",
            "TfPoseEstimator/MobilenetV2/expanded_conv_11/expand/BatchNorm/beta/read/_30__cf__30\n",
            "TfPoseEstimator/MobilenetV2/expanded_conv_11/expand/BatchNorm/gamma/read/_31__cf__31\n",
            "TfPoseEstimator/MobilenetV2/expanded_conv_11/expand/weights/read/_32__cf__32\n",
            "TfPoseEstimator/MobilenetV2/expanded_conv_11/project/BatchNorm/beta/read/_33__cf__33\n",
            "TfPoseEstimator/MobilenetV2/expanded_conv_11/project/BatchNorm/gamma/read/_34__cf__34\n",
            "TfPoseEstimator/MobilenetV2/expanded_conv_11/project/weights/read/_35__cf__35\n",
            "TfPoseEstimator/MobilenetV2/expanded_conv_12/depthwise/BatchNorm/beta/read/_36__cf__36\n",
            "TfPoseEstimator/MobilenetV2/expanded_conv_12/depthwise/BatchNorm/gamma/read/_37__cf__37\n",
            "TfPoseEstimator/MobilenetV2/expanded_conv_12/depthwise/depthwise_weights/read/_38__cf__38\n",
            "TfPoseEstimator/MobilenetV2/expanded_conv_12/expand/BatchNorm/beta/read/_39__cf__39\n",
            "TfPoseEstimator/MobilenetV2/expanded_conv_12/expand/BatchNorm/gamma/read/_40__cf__40\n",
            "TfPoseEstimator/MobilenetV2/expanded_conv_12/expand/weights/read/_41__cf__41\n",
            "TfPoseEstimator/MobilenetV2/expanded_conv_12/project/BatchNorm/beta/read/_42__cf__42\n",
            "TfPoseEstimator/MobilenetV2/expanded_conv_12/project/BatchNorm/gamma/read/_43__cf__43\n",
            "TfPoseEstimator/MobilenetV2/expanded_conv_12/project/weights/read/_44__cf__44\n",
            "TfPoseEstimator/MobilenetV2/expanded_conv_2/depthwise/BatchNorm/beta/read/_45__cf__45\n",
            "TfPoseEstimator/MobilenetV2/expanded_conv_2/depthwise/BatchNorm/gamma/read/_46__cf__46\n",
            "TfPoseEstimator/MobilenetV2/expanded_conv_2/depthwise/depthwise_weights/read/_47__cf__47\n",
            "TfPoseEstimator/MobilenetV2/expanded_conv_2/expand/BatchNorm/beta/read/_48__cf__48\n",
            "TfPoseEstimator/MobilenetV2/expanded_conv_2/expand/BatchNorm/gamma/read/_49__cf__49\n",
            "TfPoseEstimator/MobilenetV2/expanded_conv_2/expand/weights/read/_50__cf__50\n",
            "TfPoseEstimator/MobilenetV2/expanded_conv_2/expand/Conv2D\n",
            "TfPoseEstimator/MobilenetV2/expanded_conv_2/expand/BatchNorm/FusedBatchNorm\n",
            "TfPoseEstimator/MobilenetV2/expanded_conv_2/expand/Relu6\n",
            "TfPoseEstimator/MobilenetV2/expanded_conv_2/depthwise/depthwise\n",
            "TfPoseEstimator/MobilenetV2/expanded_conv_2/depthwise/BatchNorm/FusedBatchNorm\n",
            "TfPoseEstimator/MobilenetV2/expanded_conv_2/depthwise/Relu6\n",
            "TfPoseEstimator/MobilenetV2/expanded_conv_2/project/BatchNorm/beta/read/_51__cf__51\n",
            "TfPoseEstimator/MobilenetV2/expanded_conv_2/project/BatchNorm/gamma/read/_52__cf__52\n",
            "TfPoseEstimator/MobilenetV2/expanded_conv_2/project/weights/read/_53__cf__53\n",
            "TfPoseEstimator/MobilenetV2/expanded_conv_2/project/Conv2D\n",
            "TfPoseEstimator/MobilenetV2/expanded_conv_2/project/BatchNorm/FusedBatchNorm\n",
            "TfPoseEstimator/MobilenetV2/expanded_conv_2/add\n",
            "TfPoseEstimator/MobilenetV2/expanded_conv_3/depthwise/BatchNorm/beta/read/_54__cf__54\n",
            "TfPoseEstimator/MobilenetV2/expanded_conv_3/depthwise/BatchNorm/gamma/read/_55__cf__55\n",
            "TfPoseEstimator/MobilenetV2/expanded_conv_3/depthwise/depthwise_weights/read/_56__cf__56\n",
            "TfPoseEstimator/MobilenetV2/expanded_conv_3/expand/BatchNorm/beta/read/_57__cf__57\n",
            "TfPoseEstimator/MobilenetV2/expanded_conv_3/expand/BatchNorm/gamma/read/_58__cf__58\n",
            "TfPoseEstimator/MobilenetV2/expanded_conv_3/expand/weights/read/_59__cf__59\n",
            "TfPoseEstimator/MobilenetV2/expanded_conv_3/expand/Conv2D\n",
            "TfPoseEstimator/MobilenetV2/expanded_conv_3/expand/BatchNorm/FusedBatchNorm\n",
            "TfPoseEstimator/MobilenetV2/expanded_conv_3/expand/Relu6\n",
            "TfPoseEstimator/MobilenetV2/expanded_conv_3/depthwise/depthwise\n",
            "TfPoseEstimator/MobilenetV2/expanded_conv_3/depthwise/BatchNorm/FusedBatchNorm\n",
            "TfPoseEstimator/MobilenetV2/expanded_conv_3/depthwise/Relu6\n",
            "TfPoseEstimator/MobilenetV2/expanded_conv_3/project/BatchNorm/beta/read/_60__cf__60\n",
            "TfPoseEstimator/MobilenetV2/expanded_conv_3/project/BatchNorm/gamma/read/_61__cf__61\n",
            "TfPoseEstimator/MobilenetV2/expanded_conv_3/project/weights/read/_62__cf__62\n",
            "TfPoseEstimator/MobilenetV2/expanded_conv_3/project/Conv2D\n",
            "TfPoseEstimator/MobilenetV2/expanded_conv_3/project/BatchNorm/FusedBatchNorm\n",
            "TfPoseEstimator/MobilenetV2/expanded_conv_4/depthwise/BatchNorm/beta/read/_63__cf__63\n",
            "TfPoseEstimator/MobilenetV2/expanded_conv_4/depthwise/BatchNorm/gamma/read/_64__cf__64\n",
            "TfPoseEstimator/MobilenetV2/expanded_conv_4/depthwise/depthwise_weights/read/_65__cf__65\n",
            "TfPoseEstimator/MobilenetV2/expanded_conv_4/expand/BatchNorm/beta/read/_66__cf__66\n",
            "TfPoseEstimator/MobilenetV2/expanded_conv_4/expand/BatchNorm/gamma/read/_67__cf__67\n",
            "TfPoseEstimator/MobilenetV2/expanded_conv_4/expand/weights/read/_68__cf__68\n",
            "TfPoseEstimator/MobilenetV2/expanded_conv_4/expand/Conv2D\n",
            "TfPoseEstimator/MobilenetV2/expanded_conv_4/expand/BatchNorm/FusedBatchNorm\n",
            "TfPoseEstimator/MobilenetV2/expanded_conv_4/expand/Relu6\n",
            "TfPoseEstimator/MobilenetV2/expanded_conv_4/depthwise/depthwise\n",
            "TfPoseEstimator/MobilenetV2/expanded_conv_4/depthwise/BatchNorm/FusedBatchNorm\n",
            "TfPoseEstimator/MobilenetV2/expanded_conv_4/depthwise/Relu6\n",
            "TfPoseEstimator/MobilenetV2/expanded_conv_4/project/BatchNorm/beta/read/_69__cf__69\n",
            "TfPoseEstimator/MobilenetV2/expanded_conv_4/project/BatchNorm/gamma/read/_70__cf__70\n",
            "TfPoseEstimator/MobilenetV2/expanded_conv_4/project/weights/read/_71__cf__71\n",
            "TfPoseEstimator/MobilenetV2/expanded_conv_4/project/Conv2D\n",
            "TfPoseEstimator/MobilenetV2/expanded_conv_4/project/BatchNorm/FusedBatchNorm\n",
            "TfPoseEstimator/MobilenetV2/expanded_conv_4/add\n",
            "TfPoseEstimator/MobilenetV2/expanded_conv_5/depthwise/BatchNorm/beta/read/_72__cf__72\n",
            "TfPoseEstimator/MobilenetV2/expanded_conv_5/depthwise/BatchNorm/gamma/read/_73__cf__73\n",
            "TfPoseEstimator/MobilenetV2/expanded_conv_5/depthwise/depthwise_weights/read/_74__cf__74\n",
            "TfPoseEstimator/MobilenetV2/expanded_conv_5/expand/BatchNorm/beta/read/_75__cf__75\n",
            "TfPoseEstimator/MobilenetV2/expanded_conv_5/expand/BatchNorm/gamma/read/_76__cf__76\n",
            "TfPoseEstimator/MobilenetV2/expanded_conv_5/expand/weights/read/_77__cf__77\n",
            "TfPoseEstimator/MobilenetV2/expanded_conv_5/expand/Conv2D\n",
            "TfPoseEstimator/MobilenetV2/expanded_conv_5/expand/BatchNorm/FusedBatchNorm\n",
            "TfPoseEstimator/MobilenetV2/expanded_conv_5/expand/Relu6\n",
            "TfPoseEstimator/MobilenetV2/expanded_conv_5/depthwise/depthwise\n",
            "TfPoseEstimator/MobilenetV2/expanded_conv_5/depthwise/BatchNorm/FusedBatchNorm\n",
            "TfPoseEstimator/MobilenetV2/expanded_conv_5/depthwise/Relu6\n",
            "TfPoseEstimator/MobilenetV2/expanded_conv_5/project/BatchNorm/beta/read/_78__cf__78\n",
            "TfPoseEstimator/MobilenetV2/expanded_conv_5/project/BatchNorm/gamma/read/_79__cf__79\n",
            "TfPoseEstimator/MobilenetV2/expanded_conv_5/project/weights/read/_80__cf__80\n",
            "TfPoseEstimator/MobilenetV2/expanded_conv_5/project/Conv2D\n",
            "TfPoseEstimator/MobilenetV2/expanded_conv_5/project/BatchNorm/FusedBatchNorm\n",
            "TfPoseEstimator/MobilenetV2/expanded_conv_5/add\n",
            "TfPoseEstimator/Shape\n",
            "TfPoseEstimator/strided_slice\n",
            "TfPoseEstimator/MobilenetV2/expanded_conv_6/depthwise/BatchNorm/beta/read/_81__cf__81\n",
            "TfPoseEstimator/MobilenetV2/expanded_conv_6/depthwise/BatchNorm/gamma/read/_82__cf__82\n",
            "TfPoseEstimator/MobilenetV2/expanded_conv_6/depthwise/depthwise_weights/read/_83__cf__83\n",
            "TfPoseEstimator/MobilenetV2/expanded_conv_6/expand/BatchNorm/beta/read/_84__cf__84\n",
            "TfPoseEstimator/MobilenetV2/expanded_conv_6/expand/BatchNorm/gamma/read/_85__cf__85\n",
            "TfPoseEstimator/MobilenetV2/expanded_conv_6/expand/weights/read/_86__cf__86\n",
            "TfPoseEstimator/MobilenetV2/expanded_conv_6/expand/Conv2D\n",
            "TfPoseEstimator/MobilenetV2/expanded_conv_6/expand/BatchNorm/FusedBatchNorm\n",
            "TfPoseEstimator/MobilenetV2/expanded_conv_6/expand/Relu6\n",
            "TfPoseEstimator/MobilenetV2/expanded_conv_6/depthwise/depthwise\n",
            "TfPoseEstimator/MobilenetV2/expanded_conv_6/depthwise/BatchNorm/FusedBatchNorm\n",
            "TfPoseEstimator/MobilenetV2/expanded_conv_6/depthwise/Relu6\n",
            "TfPoseEstimator/MobilenetV2/expanded_conv_6/project/BatchNorm/beta/read/_87__cf__87\n",
            "TfPoseEstimator/MobilenetV2/expanded_conv_6/project/BatchNorm/gamma/read/_88__cf__88\n",
            "TfPoseEstimator/MobilenetV2/expanded_conv_6/project/weights/read/_89__cf__89\n",
            "TfPoseEstimator/MobilenetV2/expanded_conv_6/project/Conv2D\n",
            "TfPoseEstimator/MobilenetV2/expanded_conv_6/project/BatchNorm/FusedBatchNorm\n",
            "TfPoseEstimator/MobilenetV2/expanded_conv_7/depthwise/BatchNorm/beta/read/_90__cf__90\n",
            "TfPoseEstimator/MobilenetV2/expanded_conv_7/depthwise/BatchNorm/gamma/read/_91__cf__91\n",
            "TfPoseEstimator/MobilenetV2/expanded_conv_7/depthwise/depthwise_weights/read/_92__cf__92\n",
            "TfPoseEstimator/MobilenetV2/expanded_conv_7/expand/BatchNorm/beta/read/_93__cf__93\n",
            "TfPoseEstimator/MobilenetV2/expanded_conv_7/expand/BatchNorm/gamma/read/_94__cf__94\n",
            "TfPoseEstimator/MobilenetV2/expanded_conv_7/expand/weights/read/_95__cf__95\n",
            "TfPoseEstimator/MobilenetV2/expanded_conv_7/expand/Conv2D\n",
            "TfPoseEstimator/MobilenetV2/expanded_conv_7/expand/BatchNorm/FusedBatchNorm\n",
            "TfPoseEstimator/MobilenetV2/expanded_conv_7/expand/Relu6\n",
            "TfPoseEstimator/MobilenetV2/expanded_conv_7/depthwise/depthwise\n",
            "TfPoseEstimator/MobilenetV2/expanded_conv_7/depthwise/BatchNorm/FusedBatchNorm\n",
            "TfPoseEstimator/MobilenetV2/expanded_conv_7/depthwise/Relu6\n",
            "TfPoseEstimator/MobilenetV2/expanded_conv_7/project/BatchNorm/beta/read/_96__cf__96\n",
            "TfPoseEstimator/MobilenetV2/expanded_conv_7/project/BatchNorm/gamma/read/_97__cf__97\n",
            "TfPoseEstimator/MobilenetV2/expanded_conv_7/project/weights/read/_98__cf__98\n",
            "TfPoseEstimator/MobilenetV2/expanded_conv_7/project/Conv2D\n",
            "TfPoseEstimator/MobilenetV2/expanded_conv_7/project/BatchNorm/FusedBatchNorm\n",
            "TfPoseEstimator/MobilenetV2/expanded_conv_7/add\n",
            "TfPoseEstimator/MobilenetV2/expanded_conv_8/depthwise/BatchNorm/beta/read/_99__cf__99\n",
            "TfPoseEstimator/MobilenetV2/expanded_conv_8/depthwise/BatchNorm/gamma/read/_100__cf__100\n",
            "TfPoseEstimator/MobilenetV2/expanded_conv_8/depthwise/depthwise_weights/read/_101__cf__101\n",
            "TfPoseEstimator/MobilenetV2/expanded_conv_8/expand/BatchNorm/beta/read/_102__cf__102\n",
            "TfPoseEstimator/MobilenetV2/expanded_conv_8/expand/BatchNorm/gamma/read/_103__cf__103\n",
            "TfPoseEstimator/MobilenetV2/expanded_conv_8/expand/weights/read/_104__cf__104\n",
            "TfPoseEstimator/MobilenetV2/expanded_conv_8/expand/Conv2D\n",
            "TfPoseEstimator/MobilenetV2/expanded_conv_8/expand/BatchNorm/FusedBatchNorm\n",
            "TfPoseEstimator/MobilenetV2/expanded_conv_8/expand/Relu6\n",
            "TfPoseEstimator/MobilenetV2/expanded_conv_8/depthwise/depthwise\n",
            "TfPoseEstimator/MobilenetV2/expanded_conv_8/depthwise/BatchNorm/FusedBatchNorm\n",
            "TfPoseEstimator/MobilenetV2/expanded_conv_8/depthwise/Relu6\n",
            "TfPoseEstimator/MobilenetV2/expanded_conv_8/project/BatchNorm/beta/read/_105__cf__105\n",
            "TfPoseEstimator/MobilenetV2/expanded_conv_8/project/BatchNorm/gamma/read/_106__cf__106\n",
            "TfPoseEstimator/MobilenetV2/expanded_conv_8/project/weights/read/_107__cf__107\n",
            "TfPoseEstimator/MobilenetV2/expanded_conv_8/project/Conv2D\n",
            "TfPoseEstimator/MobilenetV2/expanded_conv_8/project/BatchNorm/FusedBatchNorm\n",
            "TfPoseEstimator/MobilenetV2/expanded_conv_8/add\n",
            "TfPoseEstimator/MobilenetV2/expanded_conv_9/depthwise/BatchNorm/beta/read/_108__cf__108\n",
            "TfPoseEstimator/MobilenetV2/expanded_conv_9/depthwise/BatchNorm/gamma/read/_109__cf__109\n",
            "TfPoseEstimator/MobilenetV2/expanded_conv_9/depthwise/depthwise_weights/read/_110__cf__110\n",
            "TfPoseEstimator/MobilenetV2/expanded_conv_9/expand/BatchNorm/beta/read/_111__cf__111\n",
            "TfPoseEstimator/MobilenetV2/expanded_conv_9/expand/BatchNorm/gamma/read/_112__cf__112\n",
            "TfPoseEstimator/MobilenetV2/expanded_conv_9/expand/weights/read/_113__cf__113\n",
            "TfPoseEstimator/MobilenetV2/expanded_conv_9/expand/Conv2D\n",
            "TfPoseEstimator/MobilenetV2/expanded_conv_9/expand/BatchNorm/FusedBatchNorm\n",
            "TfPoseEstimator/MobilenetV2/expanded_conv_9/expand/Relu6\n",
            "TfPoseEstimator/MobilenetV2/expanded_conv_9/depthwise/depthwise\n",
            "TfPoseEstimator/MobilenetV2/expanded_conv_9/depthwise/BatchNorm/FusedBatchNorm\n",
            "TfPoseEstimator/MobilenetV2/expanded_conv_9/depthwise/Relu6\n",
            "TfPoseEstimator/MobilenetV2/expanded_conv_9/project/BatchNorm/beta/read/_114__cf__114\n",
            "TfPoseEstimator/MobilenetV2/expanded_conv_9/project/BatchNorm/gamma/read/_115__cf__115\n",
            "TfPoseEstimator/MobilenetV2/expanded_conv_9/project/weights/read/_116__cf__116\n",
            "TfPoseEstimator/MobilenetV2/expanded_conv_9/project/Conv2D\n",
            "TfPoseEstimator/MobilenetV2/expanded_conv_9/project/BatchNorm/FusedBatchNorm\n",
            "TfPoseEstimator/MobilenetV2/expanded_conv_9/add\n",
            "TfPoseEstimator/MobilenetV2/expanded_conv_10/expand/Conv2D\n",
            "TfPoseEstimator/MobilenetV2/expanded_conv_10/expand/BatchNorm/FusedBatchNorm\n",
            "TfPoseEstimator/MobilenetV2/expanded_conv_10/expand/Relu6\n",
            "TfPoseEstimator/MobilenetV2/expanded_conv_10/depthwise/depthwise\n",
            "TfPoseEstimator/MobilenetV2/expanded_conv_10/depthwise/BatchNorm/FusedBatchNorm\n",
            "TfPoseEstimator/MobilenetV2/expanded_conv_10/depthwise/Relu6\n",
            "TfPoseEstimator/MobilenetV2/expanded_conv_10/project/Conv2D\n",
            "TfPoseEstimator/MobilenetV2/expanded_conv_10/project/BatchNorm/FusedBatchNorm\n",
            "TfPoseEstimator/MobilenetV2/expanded_conv_11/expand/Conv2D\n",
            "TfPoseEstimator/MobilenetV2/expanded_conv_11/expand/BatchNorm/FusedBatchNorm\n",
            "TfPoseEstimator/MobilenetV2/expanded_conv_11/expand/Relu6\n",
            "TfPoseEstimator/MobilenetV2/expanded_conv_11/depthwise/depthwise\n",
            "TfPoseEstimator/MobilenetV2/expanded_conv_11/depthwise/BatchNorm/FusedBatchNorm\n",
            "TfPoseEstimator/MobilenetV2/expanded_conv_11/depthwise/Relu6\n",
            "TfPoseEstimator/MobilenetV2/expanded_conv_11/project/Conv2D\n",
            "TfPoseEstimator/MobilenetV2/expanded_conv_11/project/BatchNorm/FusedBatchNorm\n",
            "TfPoseEstimator/MobilenetV2/expanded_conv_11/add\n",
            "TfPoseEstimator/MobilenetV2/expanded_conv_12/expand/Conv2D\n",
            "TfPoseEstimator/MobilenetV2/expanded_conv_12/expand/BatchNorm/FusedBatchNorm\n",
            "TfPoseEstimator/MobilenetV2/expanded_conv_12/expand/Relu6\n",
            "TfPoseEstimator/MobilenetV2/expanded_conv_12/depthwise/depthwise\n",
            "TfPoseEstimator/MobilenetV2/expanded_conv_12/depthwise/BatchNorm/FusedBatchNorm\n",
            "TfPoseEstimator/MobilenetV2/expanded_conv_12/depthwise/Relu6\n",
            "TfPoseEstimator/MobilenetV2/expanded_conv_12/project/Conv2D\n",
            "TfPoseEstimator/MobilenetV2/expanded_conv_12/project/BatchNorm/FusedBatchNorm\n",
            "TfPoseEstimator/MobilenetV2/expanded_conv_12/add\n",
            "TfPoseEstimator/base/layer_14/output/upsample\n",
            "TfPoseEstimator/feat_concat\n",
            "TfPoseEstimator/Openpose/MConv_Stage1_L1_1_depthwise/depthwise_weights/read/_117__cf__117\n",
            "TfPoseEstimator/Openpose/MConv_Stage1_L1_1_depthwise/depthwise\n",
            "TfPoseEstimator/Openpose/MConv_Stage1_L1_1_pointwise/BatchNorm/beta/read/_118__cf__118\n",
            "TfPoseEstimator/Openpose/MConv_Stage1_L1_1_pointwise/BatchNorm/moving_mean/read/_119__cf__119\n",
            "TfPoseEstimator/Openpose/MConv_Stage1_L1_1_pointwise/BatchNorm/moving_variance/read/_120__cf__120\n",
            "TfPoseEstimator/Openpose/MConv_Stage1_L1_1_pointwise/weights/read/_121__cf__121\n",
            "TfPoseEstimator/Openpose/MConv_Stage1_L1_1_pointwise/Conv2D\n",
            "TfPoseEstimator/Openpose/MConv_Stage1_L1_1_pointwise/BatchNorm/FusedBatchNorm\n",
            "TfPoseEstimator/Openpose/MConv_Stage1_L1_1_pointwise/Relu\n",
            "TfPoseEstimator/Openpose/MConv_Stage1_L1_2_depthwise/depthwise_weights/read/_122__cf__122\n",
            "TfPoseEstimator/Openpose/MConv_Stage1_L1_2_depthwise/depthwise\n",
            "TfPoseEstimator/Openpose/MConv_Stage1_L1_2_pointwise/BatchNorm/beta/read/_123__cf__123\n",
            "TfPoseEstimator/Openpose/MConv_Stage1_L1_2_pointwise/BatchNorm/moving_mean/read/_124__cf__124\n",
            "TfPoseEstimator/Openpose/MConv_Stage1_L1_2_pointwise/BatchNorm/moving_variance/read/_125__cf__125\n",
            "TfPoseEstimator/Openpose/MConv_Stage1_L1_2_pointwise/weights/read/_126__cf__126\n",
            "TfPoseEstimator/Openpose/MConv_Stage1_L1_2_pointwise/Conv2D\n",
            "TfPoseEstimator/Openpose/MConv_Stage1_L1_2_pointwise/BatchNorm/FusedBatchNorm\n",
            "TfPoseEstimator/Openpose/MConv_Stage1_L1_2_pointwise/Relu\n",
            "TfPoseEstimator/Openpose/MConv_Stage1_L1_3_depthwise/depthwise_weights/read/_127__cf__127\n",
            "TfPoseEstimator/Openpose/MConv_Stage1_L1_3_depthwise/depthwise\n",
            "TfPoseEstimator/Openpose/MConv_Stage1_L1_3_pointwise/BatchNorm/beta/read/_128__cf__128\n",
            "TfPoseEstimator/Openpose/MConv_Stage1_L1_3_pointwise/BatchNorm/moving_mean/read/_129__cf__129\n",
            "TfPoseEstimator/Openpose/MConv_Stage1_L1_3_pointwise/BatchNorm/moving_variance/read/_130__cf__130\n",
            "TfPoseEstimator/Openpose/MConv_Stage1_L1_3_pointwise/weights/read/_131__cf__131\n",
            "TfPoseEstimator/Openpose/MConv_Stage1_L1_3_pointwise/Conv2D\n",
            "TfPoseEstimator/Openpose/MConv_Stage1_L1_3_pointwise/BatchNorm/FusedBatchNorm\n",
            "TfPoseEstimator/Openpose/MConv_Stage1_L1_3_pointwise/Relu\n",
            "TfPoseEstimator/Openpose/MConv_Stage1_L1_4_depthwise/depthwise_weights/read/_132__cf__132\n",
            "TfPoseEstimator/Openpose/MConv_Stage1_L1_4_depthwise/depthwise\n",
            "TfPoseEstimator/Openpose/MConv_Stage1_L1_4_pointwise/BatchNorm/beta/read/_133__cf__133\n",
            "TfPoseEstimator/Openpose/MConv_Stage1_L1_4_pointwise/BatchNorm/moving_mean/read/_134__cf__134\n",
            "TfPoseEstimator/Openpose/MConv_Stage1_L1_4_pointwise/BatchNorm/moving_variance/read/_135__cf__135\n",
            "TfPoseEstimator/Openpose/MConv_Stage1_L1_4_pointwise/weights/read/_136__cf__136\n",
            "TfPoseEstimator/Openpose/MConv_Stage1_L1_4_pointwise/Conv2D\n",
            "TfPoseEstimator/Openpose/MConv_Stage1_L1_4_pointwise/BatchNorm/FusedBatchNorm\n",
            "TfPoseEstimator/Openpose/MConv_Stage1_L1_4_pointwise/Relu\n",
            "TfPoseEstimator/Openpose/MConv_Stage1_L1_5_depthwise/depthwise_weights/read/_137__cf__137\n",
            "TfPoseEstimator/Openpose/MConv_Stage1_L1_5_depthwise/depthwise\n",
            "TfPoseEstimator/Openpose/MConv_Stage1_L1_5_pointwise/BatchNorm/beta/read/_138__cf__138\n",
            "TfPoseEstimator/Openpose/MConv_Stage1_L1_5_pointwise/BatchNorm/moving_mean/read/_139__cf__139\n",
            "TfPoseEstimator/Openpose/MConv_Stage1_L1_5_pointwise/BatchNorm/moving_variance/read/_140__cf__140\n",
            "TfPoseEstimator/Openpose/MConv_Stage1_L1_5_pointwise/weights/read/_141__cf__141\n",
            "TfPoseEstimator/Openpose/MConv_Stage1_L1_5_pointwise/Conv2D\n",
            "TfPoseEstimator/Openpose/MConv_Stage1_L1_5_pointwise/BatchNorm/FusedBatchNorm\n",
            "TfPoseEstimator/Openpose/MConv_Stage1_L2_1_depthwise/depthwise_weights/read/_142__cf__142\n",
            "TfPoseEstimator/Openpose/MConv_Stage1_L2_1_depthwise/depthwise\n",
            "TfPoseEstimator/Openpose/MConv_Stage1_L2_1_pointwise/BatchNorm/beta/read/_143__cf__143\n",
            "TfPoseEstimator/Openpose/MConv_Stage1_L2_1_pointwise/BatchNorm/moving_mean/read/_144__cf__144\n",
            "TfPoseEstimator/Openpose/MConv_Stage1_L2_1_pointwise/BatchNorm/moving_variance/read/_145__cf__145\n",
            "TfPoseEstimator/Openpose/MConv_Stage1_L2_1_pointwise/weights/read/_146__cf__146\n",
            "TfPoseEstimator/Openpose/MConv_Stage1_L2_1_pointwise/Conv2D\n",
            "TfPoseEstimator/Openpose/MConv_Stage1_L2_1_pointwise/BatchNorm/FusedBatchNorm\n",
            "TfPoseEstimator/Openpose/MConv_Stage1_L2_1_pointwise/Relu\n",
            "TfPoseEstimator/Openpose/MConv_Stage1_L2_2_depthwise/depthwise_weights/read/_147__cf__147\n",
            "TfPoseEstimator/Openpose/MConv_Stage1_L2_2_depthwise/depthwise\n",
            "TfPoseEstimator/Openpose/MConv_Stage1_L2_2_pointwise/BatchNorm/beta/read/_148__cf__148\n",
            "TfPoseEstimator/Openpose/MConv_Stage1_L2_2_pointwise/BatchNorm/moving_mean/read/_149__cf__149\n",
            "TfPoseEstimator/Openpose/MConv_Stage1_L2_2_pointwise/BatchNorm/moving_variance/read/_150__cf__150\n",
            "TfPoseEstimator/Openpose/MConv_Stage1_L2_2_pointwise/weights/read/_151__cf__151\n",
            "TfPoseEstimator/Openpose/MConv_Stage1_L2_2_pointwise/Conv2D\n",
            "TfPoseEstimator/Openpose/MConv_Stage1_L2_2_pointwise/BatchNorm/FusedBatchNorm\n",
            "TfPoseEstimator/Openpose/MConv_Stage1_L2_2_pointwise/Relu\n",
            "TfPoseEstimator/Openpose/MConv_Stage1_L2_3_depthwise/depthwise_weights/read/_152__cf__152\n",
            "TfPoseEstimator/Openpose/MConv_Stage1_L2_3_depthwise/depthwise\n",
            "TfPoseEstimator/Openpose/MConv_Stage1_L2_3_pointwise/BatchNorm/beta/read/_153__cf__153\n",
            "TfPoseEstimator/Openpose/MConv_Stage1_L2_3_pointwise/BatchNorm/moving_mean/read/_154__cf__154\n",
            "TfPoseEstimator/Openpose/MConv_Stage1_L2_3_pointwise/BatchNorm/moving_variance/read/_155__cf__155\n",
            "TfPoseEstimator/Openpose/MConv_Stage1_L2_3_pointwise/weights/read/_156__cf__156\n",
            "TfPoseEstimator/Openpose/MConv_Stage1_L2_3_pointwise/Conv2D\n",
            "TfPoseEstimator/Openpose/MConv_Stage1_L2_3_pointwise/BatchNorm/FusedBatchNorm\n",
            "TfPoseEstimator/Openpose/MConv_Stage1_L2_3_pointwise/Relu\n",
            "TfPoseEstimator/Openpose/MConv_Stage1_L2_4_depthwise/depthwise_weights/read/_157__cf__157\n",
            "TfPoseEstimator/Openpose/MConv_Stage1_L2_4_depthwise/depthwise\n",
            "TfPoseEstimator/Openpose/MConv_Stage1_L2_4_pointwise/BatchNorm/beta/read/_158__cf__158\n",
            "TfPoseEstimator/Openpose/MConv_Stage1_L2_4_pointwise/BatchNorm/moving_mean/read/_159__cf__159\n",
            "TfPoseEstimator/Openpose/MConv_Stage1_L2_4_pointwise/BatchNorm/moving_variance/read/_160__cf__160\n",
            "TfPoseEstimator/Openpose/MConv_Stage1_L2_4_pointwise/weights/read/_161__cf__161\n",
            "TfPoseEstimator/Openpose/MConv_Stage1_L2_4_pointwise/Conv2D\n",
            "TfPoseEstimator/Openpose/MConv_Stage1_L2_4_pointwise/BatchNorm/FusedBatchNorm\n",
            "TfPoseEstimator/Openpose/MConv_Stage1_L2_4_pointwise/Relu\n",
            "TfPoseEstimator/Openpose/MConv_Stage1_L2_5_depthwise/depthwise_weights/read/_162__cf__162\n",
            "TfPoseEstimator/Openpose/MConv_Stage1_L2_5_depthwise/depthwise\n",
            "TfPoseEstimator/Openpose/MConv_Stage1_L2_5_pointwise/BatchNorm/beta/read/_163__cf__163\n",
            "TfPoseEstimator/Openpose/MConv_Stage1_L2_5_pointwise/BatchNorm/moving_mean/read/_164__cf__164\n",
            "TfPoseEstimator/Openpose/MConv_Stage1_L2_5_pointwise/BatchNorm/moving_variance/read/_165__cf__165\n",
            "TfPoseEstimator/Openpose/MConv_Stage1_L2_5_pointwise/weights/read/_166__cf__166\n",
            "TfPoseEstimator/Openpose/MConv_Stage1_L2_5_pointwise/Conv2D\n",
            "TfPoseEstimator/Openpose/MConv_Stage1_L2_5_pointwise/BatchNorm/FusedBatchNorm\n",
            "TfPoseEstimator/Openpose/MConv_Stage2_concat\n",
            "TfPoseEstimator/Openpose/MConv_Stage2_L1_1_depthwise/depthwise_weights/read/_167__cf__167\n",
            "TfPoseEstimator/Openpose/MConv_Stage2_L1_1_depthwise/depthwise\n",
            "TfPoseEstimator/Openpose/MConv_Stage2_L1_1_pointwise/BatchNorm/beta/read/_168__cf__168\n",
            "TfPoseEstimator/Openpose/MConv_Stage2_L1_1_pointwise/BatchNorm/moving_mean/read/_169__cf__169\n",
            "TfPoseEstimator/Openpose/MConv_Stage2_L1_1_pointwise/BatchNorm/moving_variance/read/_170__cf__170\n",
            "TfPoseEstimator/Openpose/MConv_Stage2_L1_1_pointwise/weights/read/_171__cf__171\n",
            "TfPoseEstimator/Openpose/MConv_Stage2_L1_1_pointwise/Conv2D\n",
            "TfPoseEstimator/Openpose/MConv_Stage2_L1_1_pointwise/BatchNorm/FusedBatchNorm\n",
            "TfPoseEstimator/Openpose/MConv_Stage2_L1_1_pointwise/Relu\n",
            "TfPoseEstimator/Openpose/MConv_Stage2_L1_2_depthwise/depthwise_weights/read/_172__cf__172\n",
            "TfPoseEstimator/Openpose/MConv_Stage2_L1_2_depthwise/depthwise\n",
            "TfPoseEstimator/Openpose/MConv_Stage2_L1_2_pointwise/BatchNorm/beta/read/_173__cf__173\n",
            "TfPoseEstimator/Openpose/MConv_Stage2_L1_2_pointwise/BatchNorm/moving_mean/read/_174__cf__174\n",
            "TfPoseEstimator/Openpose/MConv_Stage2_L1_2_pointwise/BatchNorm/moving_variance/read/_175__cf__175\n",
            "TfPoseEstimator/Openpose/MConv_Stage2_L1_2_pointwise/weights/read/_176__cf__176\n",
            "TfPoseEstimator/Openpose/MConv_Stage2_L1_2_pointwise/Conv2D\n",
            "TfPoseEstimator/Openpose/MConv_Stage2_L1_2_pointwise/BatchNorm/FusedBatchNorm\n",
            "TfPoseEstimator/Openpose/MConv_Stage2_L1_2_pointwise/Relu\n",
            "TfPoseEstimator/Openpose/MConv_Stage2_L1_3_depthwise/depthwise_weights/read/_177__cf__177\n",
            "TfPoseEstimator/Openpose/MConv_Stage2_L1_3_depthwise/depthwise\n",
            "TfPoseEstimator/Openpose/MConv_Stage2_L1_3_pointwise/BatchNorm/beta/read/_178__cf__178\n",
            "TfPoseEstimator/Openpose/MConv_Stage2_L1_3_pointwise/BatchNorm/moving_mean/read/_179__cf__179\n",
            "TfPoseEstimator/Openpose/MConv_Stage2_L1_3_pointwise/BatchNorm/moving_variance/read/_180__cf__180\n",
            "TfPoseEstimator/Openpose/MConv_Stage2_L1_3_pointwise/weights/read/_181__cf__181\n",
            "TfPoseEstimator/Openpose/MConv_Stage2_L1_3_pointwise/Conv2D\n",
            "TfPoseEstimator/Openpose/MConv_Stage2_L1_3_pointwise/BatchNorm/FusedBatchNorm\n",
            "TfPoseEstimator/Openpose/MConv_Stage2_L1_3_pointwise/Relu\n",
            "TfPoseEstimator/Openpose/MConv_Stage2_L1_4_depthwise/depthwise_weights/read/_182__cf__182\n",
            "TfPoseEstimator/Openpose/MConv_Stage2_L1_4_depthwise/depthwise\n",
            "TfPoseEstimator/Openpose/MConv_Stage2_L1_4_pointwise/BatchNorm/beta/read/_183__cf__183\n",
            "TfPoseEstimator/Openpose/MConv_Stage2_L1_4_pointwise/BatchNorm/moving_mean/read/_184__cf__184\n",
            "TfPoseEstimator/Openpose/MConv_Stage2_L1_4_pointwise/BatchNorm/moving_variance/read/_185__cf__185\n",
            "TfPoseEstimator/Openpose/MConv_Stage2_L1_4_pointwise/weights/read/_186__cf__186\n",
            "TfPoseEstimator/Openpose/MConv_Stage2_L1_4_pointwise/Conv2D\n",
            "TfPoseEstimator/Openpose/MConv_Stage2_L1_4_pointwise/BatchNorm/FusedBatchNorm\n",
            "TfPoseEstimator/Openpose/MConv_Stage2_L1_4_pointwise/Relu\n",
            "TfPoseEstimator/Openpose/MConv_Stage2_L1_5_depthwise/depthwise_weights/read/_187__cf__187\n",
            "TfPoseEstimator/Openpose/MConv_Stage2_L1_5_depthwise/depthwise\n",
            "TfPoseEstimator/Openpose/MConv_Stage2_L1_5_pointwise/BatchNorm/beta/read/_188__cf__188\n",
            "TfPoseEstimator/Openpose/MConv_Stage2_L1_5_pointwise/BatchNorm/moving_mean/read/_189__cf__189\n",
            "TfPoseEstimator/Openpose/MConv_Stage2_L1_5_pointwise/BatchNorm/moving_variance/read/_190__cf__190\n",
            "TfPoseEstimator/Openpose/MConv_Stage2_L1_5_pointwise/weights/read/_191__cf__191\n",
            "TfPoseEstimator/Openpose/MConv_Stage2_L1_5_pointwise/Conv2D\n",
            "TfPoseEstimator/Openpose/MConv_Stage2_L1_5_pointwise/BatchNorm/FusedBatchNorm\n",
            "TfPoseEstimator/Openpose/MConv_Stage2_L2_1_depthwise/depthwise_weights/read/_192__cf__192\n",
            "TfPoseEstimator/Openpose/MConv_Stage2_L2_1_depthwise/depthwise\n",
            "TfPoseEstimator/Openpose/MConv_Stage2_L2_1_pointwise/BatchNorm/beta/read/_193__cf__193\n",
            "TfPoseEstimator/Openpose/MConv_Stage2_L2_1_pointwise/BatchNorm/moving_mean/read/_194__cf__194\n",
            "TfPoseEstimator/Openpose/MConv_Stage2_L2_1_pointwise/BatchNorm/moving_variance/read/_195__cf__195\n",
            "TfPoseEstimator/Openpose/MConv_Stage2_L2_1_pointwise/weights/read/_196__cf__196\n",
            "TfPoseEstimator/Openpose/MConv_Stage2_L2_1_pointwise/Conv2D\n",
            "TfPoseEstimator/Openpose/MConv_Stage2_L2_1_pointwise/BatchNorm/FusedBatchNorm\n",
            "TfPoseEstimator/Openpose/MConv_Stage2_L2_1_pointwise/Relu\n",
            "TfPoseEstimator/Openpose/MConv_Stage2_L2_2_depthwise/depthwise_weights/read/_197__cf__197\n",
            "TfPoseEstimator/Openpose/MConv_Stage2_L2_2_depthwise/depthwise\n",
            "TfPoseEstimator/Openpose/MConv_Stage2_L2_2_pointwise/BatchNorm/beta/read/_198__cf__198\n",
            "TfPoseEstimator/Openpose/MConv_Stage2_L2_2_pointwise/BatchNorm/moving_mean/read/_199__cf__199\n",
            "TfPoseEstimator/Openpose/MConv_Stage2_L2_2_pointwise/BatchNorm/moving_variance/read/_200__cf__200\n",
            "TfPoseEstimator/Openpose/MConv_Stage2_L2_2_pointwise/weights/read/_201__cf__201\n",
            "TfPoseEstimator/Openpose/MConv_Stage2_L2_2_pointwise/Conv2D\n",
            "TfPoseEstimator/Openpose/MConv_Stage2_L2_2_pointwise/BatchNorm/FusedBatchNorm\n",
            "TfPoseEstimator/Openpose/MConv_Stage2_L2_2_pointwise/Relu\n",
            "TfPoseEstimator/Openpose/MConv_Stage2_L2_3_depthwise/depthwise_weights/read/_202__cf__202\n",
            "TfPoseEstimator/Openpose/MConv_Stage2_L2_3_depthwise/depthwise\n",
            "TfPoseEstimator/Openpose/MConv_Stage2_L2_3_pointwise/BatchNorm/beta/read/_203__cf__203\n",
            "TfPoseEstimator/Openpose/MConv_Stage2_L2_3_pointwise/BatchNorm/moving_mean/read/_204__cf__204\n",
            "TfPoseEstimator/Openpose/MConv_Stage2_L2_3_pointwise/BatchNorm/moving_variance/read/_205__cf__205\n",
            "TfPoseEstimator/Openpose/MConv_Stage2_L2_3_pointwise/weights/read/_206__cf__206\n",
            "TfPoseEstimator/Openpose/MConv_Stage2_L2_3_pointwise/Conv2D\n",
            "TfPoseEstimator/Openpose/MConv_Stage2_L2_3_pointwise/BatchNorm/FusedBatchNorm\n",
            "TfPoseEstimator/Openpose/MConv_Stage2_L2_3_pointwise/Relu\n",
            "TfPoseEstimator/Openpose/MConv_Stage2_L2_4_depthwise/depthwise_weights/read/_207__cf__207\n",
            "TfPoseEstimator/Openpose/MConv_Stage2_L2_4_depthwise/depthwise\n",
            "TfPoseEstimator/Openpose/MConv_Stage2_L2_4_pointwise/BatchNorm/beta/read/_208__cf__208\n",
            "TfPoseEstimator/Openpose/MConv_Stage2_L2_4_pointwise/BatchNorm/moving_mean/read/_209__cf__209\n",
            "TfPoseEstimator/Openpose/MConv_Stage2_L2_4_pointwise/BatchNorm/moving_variance/read/_210__cf__210\n",
            "TfPoseEstimator/Openpose/MConv_Stage2_L2_4_pointwise/weights/read/_211__cf__211\n",
            "TfPoseEstimator/Openpose/MConv_Stage2_L2_4_pointwise/Conv2D\n",
            "TfPoseEstimator/Openpose/MConv_Stage2_L2_4_pointwise/BatchNorm/FusedBatchNorm\n",
            "TfPoseEstimator/Openpose/MConv_Stage2_L2_4_pointwise/Relu\n",
            "TfPoseEstimator/Openpose/MConv_Stage2_L2_5_depthwise/depthwise_weights/read/_212__cf__212\n",
            "TfPoseEstimator/Openpose/MConv_Stage2_L2_5_depthwise/depthwise\n",
            "TfPoseEstimator/Openpose/MConv_Stage2_L2_5_pointwise/BatchNorm/beta/read/_213__cf__213\n",
            "TfPoseEstimator/Openpose/MConv_Stage2_L2_5_pointwise/BatchNorm/moving_mean/read/_214__cf__214\n",
            "TfPoseEstimator/Openpose/MConv_Stage2_L2_5_pointwise/BatchNorm/moving_variance/read/_215__cf__215\n",
            "TfPoseEstimator/Openpose/MConv_Stage2_L2_5_pointwise/weights/read/_216__cf__216\n",
            "TfPoseEstimator/Openpose/MConv_Stage2_L2_5_pointwise/Conv2D\n",
            "TfPoseEstimator/Openpose/MConv_Stage2_L2_5_pointwise/BatchNorm/FusedBatchNorm\n",
            "TfPoseEstimator/Openpose/MConv_Stage3_concat\n",
            "TfPoseEstimator/Openpose/MConv_Stage3_L1_1_depthwise/depthwise_weights/read/_217__cf__217\n",
            "TfPoseEstimator/Openpose/MConv_Stage3_L1_1_depthwise/depthwise\n",
            "TfPoseEstimator/Openpose/MConv_Stage3_L1_1_pointwise/BatchNorm/beta/read/_218__cf__218\n",
            "TfPoseEstimator/Openpose/MConv_Stage3_L1_1_pointwise/BatchNorm/moving_mean/read/_219__cf__219\n",
            "TfPoseEstimator/Openpose/MConv_Stage3_L1_1_pointwise/BatchNorm/moving_variance/read/_220__cf__220\n",
            "TfPoseEstimator/Openpose/MConv_Stage3_L1_1_pointwise/weights/read/_221__cf__221\n",
            "TfPoseEstimator/Openpose/MConv_Stage3_L1_1_pointwise/Conv2D\n",
            "TfPoseEstimator/Openpose/MConv_Stage3_L1_1_pointwise/BatchNorm/FusedBatchNorm\n",
            "TfPoseEstimator/Openpose/MConv_Stage3_L1_1_pointwise/Relu\n",
            "TfPoseEstimator/Openpose/MConv_Stage3_L1_2_depthwise/depthwise_weights/read/_222__cf__222\n",
            "TfPoseEstimator/Openpose/MConv_Stage3_L1_2_depthwise/depthwise\n",
            "TfPoseEstimator/Openpose/MConv_Stage3_L1_2_pointwise/BatchNorm/beta/read/_223__cf__223\n",
            "TfPoseEstimator/Openpose/MConv_Stage3_L1_2_pointwise/BatchNorm/moving_mean/read/_224__cf__224\n",
            "TfPoseEstimator/Openpose/MConv_Stage3_L1_2_pointwise/BatchNorm/moving_variance/read/_225__cf__225\n",
            "TfPoseEstimator/Openpose/MConv_Stage3_L1_2_pointwise/weights/read/_226__cf__226\n",
            "TfPoseEstimator/Openpose/MConv_Stage3_L1_2_pointwise/Conv2D\n",
            "TfPoseEstimator/Openpose/MConv_Stage3_L1_2_pointwise/BatchNorm/FusedBatchNorm\n",
            "TfPoseEstimator/Openpose/MConv_Stage3_L1_2_pointwise/Relu\n",
            "TfPoseEstimator/Openpose/MConv_Stage3_L1_3_depthwise/depthwise_weights/read/_227__cf__227\n",
            "TfPoseEstimator/Openpose/MConv_Stage3_L1_3_depthwise/depthwise\n",
            "TfPoseEstimator/Openpose/MConv_Stage3_L1_3_pointwise/BatchNorm/beta/read/_228__cf__228\n",
            "TfPoseEstimator/Openpose/MConv_Stage3_L1_3_pointwise/BatchNorm/moving_mean/read/_229__cf__229\n",
            "TfPoseEstimator/Openpose/MConv_Stage3_L1_3_pointwise/BatchNorm/moving_variance/read/_230__cf__230\n",
            "TfPoseEstimator/Openpose/MConv_Stage3_L1_3_pointwise/weights/read/_231__cf__231\n",
            "TfPoseEstimator/Openpose/MConv_Stage3_L1_3_pointwise/Conv2D\n",
            "TfPoseEstimator/Openpose/MConv_Stage3_L1_3_pointwise/BatchNorm/FusedBatchNorm\n",
            "TfPoseEstimator/Openpose/MConv_Stage3_L1_3_pointwise/Relu\n",
            "TfPoseEstimator/Openpose/MConv_Stage3_L1_4_depthwise/depthwise_weights/read/_232__cf__232\n",
            "TfPoseEstimator/Openpose/MConv_Stage3_L1_4_depthwise/depthwise\n",
            "TfPoseEstimator/Openpose/MConv_Stage3_L1_4_pointwise/BatchNorm/beta/read/_233__cf__233\n",
            "TfPoseEstimator/Openpose/MConv_Stage3_L1_4_pointwise/BatchNorm/moving_mean/read/_234__cf__234\n",
            "TfPoseEstimator/Openpose/MConv_Stage3_L1_4_pointwise/BatchNorm/moving_variance/read/_235__cf__235\n",
            "TfPoseEstimator/Openpose/MConv_Stage3_L1_4_pointwise/weights/read/_236__cf__236\n",
            "TfPoseEstimator/Openpose/MConv_Stage3_L1_4_pointwise/Conv2D\n",
            "TfPoseEstimator/Openpose/MConv_Stage3_L1_4_pointwise/BatchNorm/FusedBatchNorm\n",
            "TfPoseEstimator/Openpose/MConv_Stage3_L1_4_pointwise/Relu\n",
            "TfPoseEstimator/Openpose/MConv_Stage3_L1_5_depthwise/depthwise_weights/read/_237__cf__237\n",
            "TfPoseEstimator/Openpose/MConv_Stage3_L1_5_depthwise/depthwise\n",
            "TfPoseEstimator/Openpose/MConv_Stage3_L1_5_pointwise/BatchNorm/beta/read/_238__cf__238\n",
            "TfPoseEstimator/Openpose/MConv_Stage3_L1_5_pointwise/BatchNorm/moving_mean/read/_239__cf__239\n",
            "TfPoseEstimator/Openpose/MConv_Stage3_L1_5_pointwise/BatchNorm/moving_variance/read/_240__cf__240\n",
            "TfPoseEstimator/Openpose/MConv_Stage3_L1_5_pointwise/weights/read/_241__cf__241\n",
            "TfPoseEstimator/Openpose/MConv_Stage3_L1_5_pointwise/Conv2D\n",
            "TfPoseEstimator/Openpose/MConv_Stage3_L1_5_pointwise/BatchNorm/FusedBatchNorm\n",
            "TfPoseEstimator/Openpose/MConv_Stage3_L2_1_depthwise/depthwise_weights/read/_242__cf__242\n",
            "TfPoseEstimator/Openpose/MConv_Stage3_L2_1_depthwise/depthwise\n",
            "TfPoseEstimator/Openpose/MConv_Stage3_L2_1_pointwise/BatchNorm/beta/read/_243__cf__243\n",
            "TfPoseEstimator/Openpose/MConv_Stage3_L2_1_pointwise/BatchNorm/moving_mean/read/_244__cf__244\n",
            "TfPoseEstimator/Openpose/MConv_Stage3_L2_1_pointwise/BatchNorm/moving_variance/read/_245__cf__245\n",
            "TfPoseEstimator/Openpose/MConv_Stage3_L2_1_pointwise/weights/read/_246__cf__246\n",
            "TfPoseEstimator/Openpose/MConv_Stage3_L2_1_pointwise/Conv2D\n",
            "TfPoseEstimator/Openpose/MConv_Stage3_L2_1_pointwise/BatchNorm/FusedBatchNorm\n",
            "TfPoseEstimator/Openpose/MConv_Stage3_L2_1_pointwise/Relu\n",
            "TfPoseEstimator/Openpose/MConv_Stage3_L2_2_depthwise/depthwise_weights/read/_247__cf__247\n",
            "TfPoseEstimator/Openpose/MConv_Stage3_L2_2_depthwise/depthwise\n",
            "TfPoseEstimator/Openpose/MConv_Stage3_L2_2_pointwise/BatchNorm/beta/read/_248__cf__248\n",
            "TfPoseEstimator/Openpose/MConv_Stage3_L2_2_pointwise/BatchNorm/moving_mean/read/_249__cf__249\n",
            "TfPoseEstimator/Openpose/MConv_Stage3_L2_2_pointwise/BatchNorm/moving_variance/read/_250__cf__250\n",
            "TfPoseEstimator/Openpose/MConv_Stage3_L2_2_pointwise/weights/read/_251__cf__251\n",
            "TfPoseEstimator/Openpose/MConv_Stage3_L2_2_pointwise/Conv2D\n",
            "TfPoseEstimator/Openpose/MConv_Stage3_L2_2_pointwise/BatchNorm/FusedBatchNorm\n",
            "TfPoseEstimator/Openpose/MConv_Stage3_L2_2_pointwise/Relu\n",
            "TfPoseEstimator/Openpose/MConv_Stage3_L2_3_depthwise/depthwise_weights/read/_252__cf__252\n",
            "TfPoseEstimator/Openpose/MConv_Stage3_L2_3_depthwise/depthwise\n",
            "TfPoseEstimator/Openpose/MConv_Stage3_L2_3_pointwise/BatchNorm/beta/read/_253__cf__253\n",
            "TfPoseEstimator/Openpose/MConv_Stage3_L2_3_pointwise/BatchNorm/moving_mean/read/_254__cf__254\n",
            "TfPoseEstimator/Openpose/MConv_Stage3_L2_3_pointwise/BatchNorm/moving_variance/read/_255__cf__255\n",
            "TfPoseEstimator/Openpose/MConv_Stage3_L2_3_pointwise/weights/read/_256__cf__256\n",
            "TfPoseEstimator/Openpose/MConv_Stage3_L2_3_pointwise/Conv2D\n",
            "TfPoseEstimator/Openpose/MConv_Stage3_L2_3_pointwise/BatchNorm/FusedBatchNorm\n",
            "TfPoseEstimator/Openpose/MConv_Stage3_L2_3_pointwise/Relu\n",
            "TfPoseEstimator/Openpose/MConv_Stage3_L2_4_depthwise/depthwise_weights/read/_257__cf__257\n",
            "TfPoseEstimator/Openpose/MConv_Stage3_L2_4_depthwise/depthwise\n",
            "TfPoseEstimator/Openpose/MConv_Stage3_L2_4_pointwise/BatchNorm/beta/read/_258__cf__258\n",
            "TfPoseEstimator/Openpose/MConv_Stage3_L2_4_pointwise/BatchNorm/moving_mean/read/_259__cf__259\n",
            "TfPoseEstimator/Openpose/MConv_Stage3_L2_4_pointwise/BatchNorm/moving_variance/read/_260__cf__260\n",
            "TfPoseEstimator/Openpose/MConv_Stage3_L2_4_pointwise/weights/read/_261__cf__261\n",
            "TfPoseEstimator/Openpose/MConv_Stage3_L2_4_pointwise/Conv2D\n",
            "TfPoseEstimator/Openpose/MConv_Stage3_L2_4_pointwise/BatchNorm/FusedBatchNorm\n",
            "TfPoseEstimator/Openpose/MConv_Stage3_L2_4_pointwise/Relu\n",
            "TfPoseEstimator/Openpose/MConv_Stage3_L2_5_depthwise/depthwise_weights/read/_262__cf__262\n",
            "TfPoseEstimator/Openpose/MConv_Stage3_L2_5_depthwise/depthwise\n",
            "TfPoseEstimator/Openpose/MConv_Stage3_L2_5_pointwise/BatchNorm/beta/read/_263__cf__263\n",
            "TfPoseEstimator/Openpose/MConv_Stage3_L2_5_pointwise/BatchNorm/moving_mean/read/_264__cf__264\n",
            "TfPoseEstimator/Openpose/MConv_Stage3_L2_5_pointwise/BatchNorm/moving_variance/read/_265__cf__265\n",
            "TfPoseEstimator/Openpose/MConv_Stage3_L2_5_pointwise/weights/read/_266__cf__266\n",
            "TfPoseEstimator/Openpose/MConv_Stage3_L2_5_pointwise/Conv2D\n",
            "TfPoseEstimator/Openpose/MConv_Stage3_L2_5_pointwise/BatchNorm/FusedBatchNorm\n",
            "TfPoseEstimator/Openpose/MConv_Stage4_concat\n",
            "TfPoseEstimator/Openpose/MConv_Stage4_L1_1_depthwise/depthwise_weights/read/_267__cf__267\n",
            "TfPoseEstimator/Openpose/MConv_Stage4_L1_1_depthwise/depthwise\n",
            "TfPoseEstimator/Openpose/MConv_Stage4_L1_1_pointwise/BatchNorm/beta/read/_268__cf__268\n",
            "TfPoseEstimator/Openpose/MConv_Stage4_L1_1_pointwise/BatchNorm/moving_mean/read/_269__cf__269\n",
            "TfPoseEstimator/Openpose/MConv_Stage4_L1_1_pointwise/BatchNorm/moving_variance/read/_270__cf__270\n",
            "TfPoseEstimator/Openpose/MConv_Stage4_L1_1_pointwise/weights/read/_271__cf__271\n",
            "TfPoseEstimator/Openpose/MConv_Stage4_L1_1_pointwise/Conv2D\n",
            "TfPoseEstimator/Openpose/MConv_Stage4_L1_1_pointwise/BatchNorm/FusedBatchNorm\n",
            "TfPoseEstimator/Openpose/MConv_Stage4_L1_1_pointwise/Relu\n",
            "TfPoseEstimator/Openpose/MConv_Stage4_L1_2_depthwise/depthwise_weights/read/_272__cf__272\n",
            "TfPoseEstimator/Openpose/MConv_Stage4_L1_2_depthwise/depthwise\n",
            "TfPoseEstimator/Openpose/MConv_Stage4_L1_2_pointwise/BatchNorm/beta/read/_273__cf__273\n",
            "TfPoseEstimator/Openpose/MConv_Stage4_L1_2_pointwise/BatchNorm/moving_mean/read/_274__cf__274\n",
            "TfPoseEstimator/Openpose/MConv_Stage4_L1_2_pointwise/BatchNorm/moving_variance/read/_275__cf__275\n",
            "TfPoseEstimator/Openpose/MConv_Stage4_L1_2_pointwise/weights/read/_276__cf__276\n",
            "TfPoseEstimator/Openpose/MConv_Stage4_L1_2_pointwise/Conv2D\n",
            "TfPoseEstimator/Openpose/MConv_Stage4_L1_2_pointwise/BatchNorm/FusedBatchNorm\n",
            "TfPoseEstimator/Openpose/MConv_Stage4_L1_2_pointwise/Relu\n",
            "TfPoseEstimator/Openpose/MConv_Stage4_L1_3_depthwise/depthwise_weights/read/_277__cf__277\n",
            "TfPoseEstimator/Openpose/MConv_Stage4_L1_3_depthwise/depthwise\n",
            "TfPoseEstimator/Openpose/MConv_Stage4_L1_3_pointwise/BatchNorm/beta/read/_278__cf__278\n",
            "TfPoseEstimator/Openpose/MConv_Stage4_L1_3_pointwise/BatchNorm/moving_mean/read/_279__cf__279\n",
            "TfPoseEstimator/Openpose/MConv_Stage4_L1_3_pointwise/BatchNorm/moving_variance/read/_280__cf__280\n",
            "TfPoseEstimator/Openpose/MConv_Stage4_L1_3_pointwise/weights/read/_281__cf__281\n",
            "TfPoseEstimator/Openpose/MConv_Stage4_L1_3_pointwise/Conv2D\n",
            "TfPoseEstimator/Openpose/MConv_Stage4_L1_3_pointwise/BatchNorm/FusedBatchNorm\n",
            "TfPoseEstimator/Openpose/MConv_Stage4_L1_3_pointwise/Relu\n",
            "TfPoseEstimator/Openpose/MConv_Stage4_L1_4_depthwise/depthwise_weights/read/_282__cf__282\n",
            "TfPoseEstimator/Openpose/MConv_Stage4_L1_4_depthwise/depthwise\n",
            "TfPoseEstimator/Openpose/MConv_Stage4_L1_4_pointwise/BatchNorm/beta/read/_283__cf__283\n",
            "TfPoseEstimator/Openpose/MConv_Stage4_L1_4_pointwise/BatchNorm/moving_mean/read/_284__cf__284\n",
            "TfPoseEstimator/Openpose/MConv_Stage4_L1_4_pointwise/BatchNorm/moving_variance/read/_285__cf__285\n",
            "TfPoseEstimator/Openpose/MConv_Stage4_L1_4_pointwise/weights/read/_286__cf__286\n",
            "TfPoseEstimator/Openpose/MConv_Stage4_L1_4_pointwise/Conv2D\n",
            "TfPoseEstimator/Openpose/MConv_Stage4_L1_4_pointwise/BatchNorm/FusedBatchNorm\n",
            "TfPoseEstimator/Openpose/MConv_Stage4_L1_4_pointwise/Relu\n",
            "TfPoseEstimator/Openpose/MConv_Stage4_L1_5_depthwise/depthwise_weights/read/_287__cf__287\n",
            "TfPoseEstimator/Openpose/MConv_Stage4_L1_5_depthwise/depthwise\n",
            "TfPoseEstimator/Openpose/MConv_Stage4_L1_5_pointwise/BatchNorm/beta/read/_288__cf__288\n",
            "TfPoseEstimator/Openpose/MConv_Stage4_L1_5_pointwise/BatchNorm/moving_mean/read/_289__cf__289\n",
            "TfPoseEstimator/Openpose/MConv_Stage4_L1_5_pointwise/BatchNorm/moving_variance/read/_290__cf__290\n",
            "TfPoseEstimator/Openpose/MConv_Stage4_L1_5_pointwise/weights/read/_291__cf__291\n",
            "TfPoseEstimator/Openpose/MConv_Stage4_L1_5_pointwise/Conv2D\n",
            "TfPoseEstimator/Openpose/MConv_Stage4_L1_5_pointwise/BatchNorm/FusedBatchNorm\n",
            "TfPoseEstimator/Openpose/MConv_Stage4_L2_1_depthwise/depthwise_weights/read/_292__cf__292\n",
            "TfPoseEstimator/Openpose/MConv_Stage4_L2_1_depthwise/depthwise\n",
            "TfPoseEstimator/Openpose/MConv_Stage4_L2_1_pointwise/BatchNorm/beta/read/_293__cf__293\n",
            "TfPoseEstimator/Openpose/MConv_Stage4_L2_1_pointwise/BatchNorm/moving_mean/read/_294__cf__294\n",
            "TfPoseEstimator/Openpose/MConv_Stage4_L2_1_pointwise/BatchNorm/moving_variance/read/_295__cf__295\n",
            "TfPoseEstimator/Openpose/MConv_Stage4_L2_1_pointwise/weights/read/_296__cf__296\n",
            "TfPoseEstimator/Openpose/MConv_Stage4_L2_1_pointwise/Conv2D\n",
            "TfPoseEstimator/Openpose/MConv_Stage4_L2_1_pointwise/BatchNorm/FusedBatchNorm\n",
            "TfPoseEstimator/Openpose/MConv_Stage4_L2_1_pointwise/Relu\n",
            "TfPoseEstimator/Openpose/MConv_Stage4_L2_2_depthwise/depthwise_weights/read/_297__cf__297\n",
            "TfPoseEstimator/Openpose/MConv_Stage4_L2_2_depthwise/depthwise\n",
            "TfPoseEstimator/Openpose/MConv_Stage4_L2_2_pointwise/BatchNorm/beta/read/_298__cf__298\n",
            "TfPoseEstimator/Openpose/MConv_Stage4_L2_2_pointwise/BatchNorm/moving_mean/read/_299__cf__299\n",
            "TfPoseEstimator/Openpose/MConv_Stage4_L2_2_pointwise/BatchNorm/moving_variance/read/_300__cf__300\n",
            "TfPoseEstimator/Openpose/MConv_Stage4_L2_2_pointwise/weights/read/_301__cf__301\n",
            "TfPoseEstimator/Openpose/MConv_Stage4_L2_2_pointwise/Conv2D\n",
            "TfPoseEstimator/Openpose/MConv_Stage4_L2_2_pointwise/BatchNorm/FusedBatchNorm\n",
            "TfPoseEstimator/Openpose/MConv_Stage4_L2_2_pointwise/Relu\n",
            "TfPoseEstimator/Openpose/MConv_Stage4_L2_3_depthwise/depthwise_weights/read/_302__cf__302\n",
            "TfPoseEstimator/Openpose/MConv_Stage4_L2_3_depthwise/depthwise\n",
            "TfPoseEstimator/Openpose/MConv_Stage4_L2_3_pointwise/BatchNorm/beta/read/_303__cf__303\n",
            "TfPoseEstimator/Openpose/MConv_Stage4_L2_3_pointwise/BatchNorm/moving_mean/read/_304__cf__304\n",
            "TfPoseEstimator/Openpose/MConv_Stage4_L2_3_pointwise/BatchNorm/moving_variance/read/_305__cf__305\n",
            "TfPoseEstimator/Openpose/MConv_Stage4_L2_3_pointwise/weights/read/_306__cf__306\n",
            "TfPoseEstimator/Openpose/MConv_Stage4_L2_3_pointwise/Conv2D\n",
            "TfPoseEstimator/Openpose/MConv_Stage4_L2_3_pointwise/BatchNorm/FusedBatchNorm\n",
            "TfPoseEstimator/Openpose/MConv_Stage4_L2_3_pointwise/Relu\n",
            "TfPoseEstimator/Openpose/MConv_Stage4_L2_4_depthwise/depthwise_weights/read/_307__cf__307\n",
            "TfPoseEstimator/Openpose/MConv_Stage4_L2_4_depthwise/depthwise\n",
            "TfPoseEstimator/Openpose/MConv_Stage4_L2_4_pointwise/BatchNorm/beta/read/_308__cf__308\n",
            "TfPoseEstimator/Openpose/MConv_Stage4_L2_4_pointwise/BatchNorm/moving_mean/read/_309__cf__309\n",
            "TfPoseEstimator/Openpose/MConv_Stage4_L2_4_pointwise/BatchNorm/moving_variance/read/_310__cf__310\n",
            "TfPoseEstimator/Openpose/MConv_Stage4_L2_4_pointwise/weights/read/_311__cf__311\n",
            "TfPoseEstimator/Openpose/MConv_Stage4_L2_4_pointwise/Conv2D\n",
            "TfPoseEstimator/Openpose/MConv_Stage4_L2_4_pointwise/BatchNorm/FusedBatchNorm\n",
            "TfPoseEstimator/Openpose/MConv_Stage4_L2_4_pointwise/Relu\n",
            "TfPoseEstimator/Openpose/MConv_Stage4_L2_5_depthwise/depthwise_weights/read/_312__cf__312\n",
            "TfPoseEstimator/Openpose/MConv_Stage4_L2_5_depthwise/depthwise\n",
            "TfPoseEstimator/Openpose/MConv_Stage4_L2_5_pointwise/BatchNorm/beta/read/_313__cf__313\n",
            "TfPoseEstimator/Openpose/MConv_Stage4_L2_5_pointwise/BatchNorm/moving_mean/read/_314__cf__314\n",
            "TfPoseEstimator/Openpose/MConv_Stage4_L2_5_pointwise/BatchNorm/moving_variance/read/_315__cf__315\n",
            "TfPoseEstimator/Openpose/MConv_Stage4_L2_5_pointwise/weights/read/_316__cf__316\n",
            "TfPoseEstimator/Openpose/MConv_Stage4_L2_5_pointwise/Conv2D\n",
            "TfPoseEstimator/Openpose/MConv_Stage4_L2_5_pointwise/BatchNorm/FusedBatchNorm\n",
            "TfPoseEstimator/Openpose/MConv_Stage5_concat\n",
            "TfPoseEstimator/Openpose/MConv_Stage5_L1_1_depthwise/depthwise_weights/read/_317__cf__317\n",
            "TfPoseEstimator/Openpose/MConv_Stage5_L1_1_depthwise/depthwise\n",
            "TfPoseEstimator/Openpose/MConv_Stage5_L1_1_pointwise/BatchNorm/beta/read/_318__cf__318\n",
            "TfPoseEstimator/Openpose/MConv_Stage5_L1_1_pointwise/BatchNorm/moving_mean/read/_319__cf__319\n",
            "TfPoseEstimator/Openpose/MConv_Stage5_L1_1_pointwise/BatchNorm/moving_variance/read/_320__cf__320\n",
            "TfPoseEstimator/Openpose/MConv_Stage5_L1_1_pointwise/weights/read/_321__cf__321\n",
            "TfPoseEstimator/Openpose/MConv_Stage5_L1_1_pointwise/Conv2D\n",
            "TfPoseEstimator/Openpose/MConv_Stage5_L1_1_pointwise/BatchNorm/FusedBatchNorm\n",
            "TfPoseEstimator/Openpose/MConv_Stage5_L1_1_pointwise/Relu\n",
            "TfPoseEstimator/Openpose/MConv_Stage5_L1_2_depthwise/depthwise_weights/read/_322__cf__322\n",
            "TfPoseEstimator/Openpose/MConv_Stage5_L1_2_depthwise/depthwise\n",
            "TfPoseEstimator/Openpose/MConv_Stage5_L1_2_pointwise/BatchNorm/beta/read/_323__cf__323\n",
            "TfPoseEstimator/Openpose/MConv_Stage5_L1_2_pointwise/BatchNorm/moving_mean/read/_324__cf__324\n",
            "TfPoseEstimator/Openpose/MConv_Stage5_L1_2_pointwise/BatchNorm/moving_variance/read/_325__cf__325\n",
            "TfPoseEstimator/Openpose/MConv_Stage5_L1_2_pointwise/weights/read/_326__cf__326\n",
            "TfPoseEstimator/Openpose/MConv_Stage5_L1_2_pointwise/Conv2D\n",
            "TfPoseEstimator/Openpose/MConv_Stage5_L1_2_pointwise/BatchNorm/FusedBatchNorm\n",
            "TfPoseEstimator/Openpose/MConv_Stage5_L1_2_pointwise/Relu\n",
            "TfPoseEstimator/Openpose/MConv_Stage5_L1_3_depthwise/depthwise_weights/read/_327__cf__327\n",
            "TfPoseEstimator/Openpose/MConv_Stage5_L1_3_depthwise/depthwise\n",
            "TfPoseEstimator/Openpose/MConv_Stage5_L1_3_pointwise/BatchNorm/beta/read/_328__cf__328\n",
            "TfPoseEstimator/Openpose/MConv_Stage5_L1_3_pointwise/BatchNorm/moving_mean/read/_329__cf__329\n",
            "TfPoseEstimator/Openpose/MConv_Stage5_L1_3_pointwise/BatchNorm/moving_variance/read/_330__cf__330\n",
            "TfPoseEstimator/Openpose/MConv_Stage5_L1_3_pointwise/weights/read/_331__cf__331\n",
            "TfPoseEstimator/Openpose/MConv_Stage5_L1_3_pointwise/Conv2D\n",
            "TfPoseEstimator/Openpose/MConv_Stage5_L1_3_pointwise/BatchNorm/FusedBatchNorm\n",
            "TfPoseEstimator/Openpose/MConv_Stage5_L1_3_pointwise/Relu\n",
            "TfPoseEstimator/Openpose/MConv_Stage5_L1_4_depthwise/depthwise_weights/read/_332__cf__332\n",
            "TfPoseEstimator/Openpose/MConv_Stage5_L1_4_depthwise/depthwise\n",
            "TfPoseEstimator/Openpose/MConv_Stage5_L1_4_pointwise/BatchNorm/beta/read/_333__cf__333\n",
            "TfPoseEstimator/Openpose/MConv_Stage5_L1_4_pointwise/BatchNorm/moving_mean/read/_334__cf__334\n",
            "TfPoseEstimator/Openpose/MConv_Stage5_L1_4_pointwise/BatchNorm/moving_variance/read/_335__cf__335\n",
            "TfPoseEstimator/Openpose/MConv_Stage5_L1_4_pointwise/weights/read/_336__cf__336\n",
            "TfPoseEstimator/Openpose/MConv_Stage5_L1_4_pointwise/Conv2D\n",
            "TfPoseEstimator/Openpose/MConv_Stage5_L1_4_pointwise/BatchNorm/FusedBatchNorm\n",
            "TfPoseEstimator/Openpose/MConv_Stage5_L1_4_pointwise/Relu\n",
            "TfPoseEstimator/Openpose/MConv_Stage5_L1_5_depthwise/depthwise_weights/read/_337__cf__337\n",
            "TfPoseEstimator/Openpose/MConv_Stage5_L1_5_depthwise/depthwise\n",
            "TfPoseEstimator/Openpose/MConv_Stage5_L1_5_pointwise/BatchNorm/beta/read/_338__cf__338\n",
            "TfPoseEstimator/Openpose/MConv_Stage5_L1_5_pointwise/BatchNorm/moving_mean/read/_339__cf__339\n",
            "TfPoseEstimator/Openpose/MConv_Stage5_L1_5_pointwise/BatchNorm/moving_variance/read/_340__cf__340\n",
            "TfPoseEstimator/Openpose/MConv_Stage5_L1_5_pointwise/weights/read/_341__cf__341\n",
            "TfPoseEstimator/Openpose/MConv_Stage5_L1_5_pointwise/Conv2D\n",
            "TfPoseEstimator/Openpose/MConv_Stage5_L1_5_pointwise/BatchNorm/FusedBatchNorm\n",
            "TfPoseEstimator/Openpose/MConv_Stage5_L2_1_depthwise/depthwise_weights/read/_342__cf__342\n",
            "TfPoseEstimator/Openpose/MConv_Stage5_L2_1_depthwise/depthwise\n",
            "TfPoseEstimator/Openpose/MConv_Stage5_L2_1_pointwise/BatchNorm/beta/read/_343__cf__343\n",
            "TfPoseEstimator/Openpose/MConv_Stage5_L2_1_pointwise/BatchNorm/moving_mean/read/_344__cf__344\n",
            "TfPoseEstimator/Openpose/MConv_Stage5_L2_1_pointwise/BatchNorm/moving_variance/read/_345__cf__345\n",
            "TfPoseEstimator/Openpose/MConv_Stage5_L2_1_pointwise/weights/read/_346__cf__346\n",
            "TfPoseEstimator/Openpose/MConv_Stage5_L2_1_pointwise/Conv2D\n",
            "TfPoseEstimator/Openpose/MConv_Stage5_L2_1_pointwise/BatchNorm/FusedBatchNorm\n",
            "TfPoseEstimator/Openpose/MConv_Stage5_L2_1_pointwise/Relu\n",
            "TfPoseEstimator/Openpose/MConv_Stage5_L2_2_depthwise/depthwise_weights/read/_347__cf__347\n",
            "TfPoseEstimator/Openpose/MConv_Stage5_L2_2_depthwise/depthwise\n",
            "TfPoseEstimator/Openpose/MConv_Stage5_L2_2_pointwise/BatchNorm/beta/read/_348__cf__348\n",
            "TfPoseEstimator/Openpose/MConv_Stage5_L2_2_pointwise/BatchNorm/moving_mean/read/_349__cf__349\n",
            "TfPoseEstimator/Openpose/MConv_Stage5_L2_2_pointwise/BatchNorm/moving_variance/read/_350__cf__350\n",
            "TfPoseEstimator/Openpose/MConv_Stage5_L2_2_pointwise/weights/read/_351__cf__351\n",
            "TfPoseEstimator/Openpose/MConv_Stage5_L2_2_pointwise/Conv2D\n",
            "TfPoseEstimator/Openpose/MConv_Stage5_L2_2_pointwise/BatchNorm/FusedBatchNorm\n",
            "TfPoseEstimator/Openpose/MConv_Stage5_L2_2_pointwise/Relu\n",
            "TfPoseEstimator/Openpose/MConv_Stage5_L2_3_depthwise/depthwise_weights/read/_352__cf__352\n",
            "TfPoseEstimator/Openpose/MConv_Stage5_L2_3_depthwise/depthwise\n",
            "TfPoseEstimator/Openpose/MConv_Stage5_L2_3_pointwise/BatchNorm/beta/read/_353__cf__353\n",
            "TfPoseEstimator/Openpose/MConv_Stage5_L2_3_pointwise/BatchNorm/moving_mean/read/_354__cf__354\n",
            "TfPoseEstimator/Openpose/MConv_Stage5_L2_3_pointwise/BatchNorm/moving_variance/read/_355__cf__355\n",
            "TfPoseEstimator/Openpose/MConv_Stage5_L2_3_pointwise/weights/read/_356__cf__356\n",
            "TfPoseEstimator/Openpose/MConv_Stage5_L2_3_pointwise/Conv2D\n",
            "TfPoseEstimator/Openpose/MConv_Stage5_L2_3_pointwise/BatchNorm/FusedBatchNorm\n",
            "TfPoseEstimator/Openpose/MConv_Stage5_L2_3_pointwise/Relu\n",
            "TfPoseEstimator/Openpose/MConv_Stage5_L2_4_depthwise/depthwise_weights/read/_357__cf__357\n",
            "TfPoseEstimator/Openpose/MConv_Stage5_L2_4_depthwise/depthwise\n",
            "TfPoseEstimator/Openpose/MConv_Stage5_L2_4_pointwise/BatchNorm/beta/read/_358__cf__358\n",
            "TfPoseEstimator/Openpose/MConv_Stage5_L2_4_pointwise/BatchNorm/moving_mean/read/_359__cf__359\n",
            "TfPoseEstimator/Openpose/MConv_Stage5_L2_4_pointwise/BatchNorm/moving_variance/read/_360__cf__360\n",
            "TfPoseEstimator/Openpose/MConv_Stage5_L2_4_pointwise/weights/read/_361__cf__361\n",
            "TfPoseEstimator/Openpose/MConv_Stage5_L2_4_pointwise/Conv2D\n",
            "TfPoseEstimator/Openpose/MConv_Stage5_L2_4_pointwise/BatchNorm/FusedBatchNorm\n",
            "TfPoseEstimator/Openpose/MConv_Stage5_L2_4_pointwise/Relu\n",
            "TfPoseEstimator/Openpose/MConv_Stage5_L2_5_depthwise/depthwise_weights/read/_362__cf__362\n",
            "TfPoseEstimator/Openpose/MConv_Stage5_L2_5_depthwise/depthwise\n",
            "TfPoseEstimator/Openpose/MConv_Stage5_L2_5_pointwise/BatchNorm/beta/read/_363__cf__363\n",
            "TfPoseEstimator/Openpose/MConv_Stage5_L2_5_pointwise/BatchNorm/moving_mean/read/_364__cf__364\n",
            "TfPoseEstimator/Openpose/MConv_Stage5_L2_5_pointwise/BatchNorm/moving_variance/read/_365__cf__365\n",
            "TfPoseEstimator/Openpose/MConv_Stage5_L2_5_pointwise/weights/read/_366__cf__366\n",
            "TfPoseEstimator/Openpose/MConv_Stage5_L2_5_pointwise/Conv2D\n",
            "TfPoseEstimator/Openpose/MConv_Stage5_L2_5_pointwise/BatchNorm/FusedBatchNorm\n",
            "TfPoseEstimator/Openpose/MConv_Stage6_concat\n",
            "TfPoseEstimator/Openpose/MConv_Stage6_L1_1_depthwise/depthwise_weights/read/_367__cf__367\n",
            "TfPoseEstimator/Openpose/MConv_Stage6_L1_1_depthwise/depthwise\n",
            "TfPoseEstimator/Openpose/MConv_Stage6_L1_1_pointwise/BatchNorm/beta/read/_368__cf__368\n",
            "TfPoseEstimator/Openpose/MConv_Stage6_L1_1_pointwise/BatchNorm/moving_mean/read/_369__cf__369\n",
            "TfPoseEstimator/Openpose/MConv_Stage6_L1_1_pointwise/BatchNorm/moving_variance/read/_370__cf__370\n",
            "TfPoseEstimator/Openpose/MConv_Stage6_L1_1_pointwise/weights/read/_371__cf__371\n",
            "TfPoseEstimator/Openpose/MConv_Stage6_L1_1_pointwise/Conv2D\n",
            "TfPoseEstimator/Openpose/MConv_Stage6_L1_1_pointwise/BatchNorm/FusedBatchNorm\n",
            "TfPoseEstimator/Openpose/MConv_Stage6_L1_1_pointwise/Relu\n",
            "TfPoseEstimator/Openpose/MConv_Stage6_L1_2_depthwise/depthwise_weights/read/_372__cf__372\n",
            "TfPoseEstimator/Openpose/MConv_Stage6_L1_2_depthwise/depthwise\n",
            "TfPoseEstimator/Openpose/MConv_Stage6_L1_2_pointwise/BatchNorm/beta/read/_373__cf__373\n",
            "TfPoseEstimator/Openpose/MConv_Stage6_L1_2_pointwise/BatchNorm/moving_mean/read/_374__cf__374\n",
            "TfPoseEstimator/Openpose/MConv_Stage6_L1_2_pointwise/BatchNorm/moving_variance/read/_375__cf__375\n",
            "TfPoseEstimator/Openpose/MConv_Stage6_L1_2_pointwise/weights/read/_376__cf__376\n",
            "TfPoseEstimator/Openpose/MConv_Stage6_L1_2_pointwise/Conv2D\n",
            "TfPoseEstimator/Openpose/MConv_Stage6_L1_2_pointwise/BatchNorm/FusedBatchNorm\n",
            "TfPoseEstimator/Openpose/MConv_Stage6_L1_2_pointwise/Relu\n",
            "TfPoseEstimator/Openpose/MConv_Stage6_L1_3_depthwise/depthwise_weights/read/_377__cf__377\n",
            "TfPoseEstimator/Openpose/MConv_Stage6_L1_3_depthwise/depthwise\n",
            "TfPoseEstimator/Openpose/MConv_Stage6_L1_3_pointwise/BatchNorm/beta/read/_378__cf__378\n",
            "TfPoseEstimator/Openpose/MConv_Stage6_L1_3_pointwise/BatchNorm/moving_mean/read/_379__cf__379\n",
            "TfPoseEstimator/Openpose/MConv_Stage6_L1_3_pointwise/BatchNorm/moving_variance/read/_380__cf__380\n",
            "TfPoseEstimator/Openpose/MConv_Stage6_L1_3_pointwise/weights/read/_381__cf__381\n",
            "TfPoseEstimator/Openpose/MConv_Stage6_L1_3_pointwise/Conv2D\n",
            "TfPoseEstimator/Openpose/MConv_Stage6_L1_3_pointwise/BatchNorm/FusedBatchNorm\n",
            "TfPoseEstimator/Openpose/MConv_Stage6_L1_3_pointwise/Relu\n",
            "TfPoseEstimator/Openpose/MConv_Stage6_L1_4_depthwise/depthwise_weights/read/_382__cf__382\n",
            "TfPoseEstimator/Openpose/MConv_Stage6_L1_4_depthwise/depthwise\n",
            "TfPoseEstimator/Openpose/MConv_Stage6_L1_4_pointwise/BatchNorm/beta/read/_383__cf__383\n",
            "TfPoseEstimator/Openpose/MConv_Stage6_L1_4_pointwise/BatchNorm/moving_mean/read/_384__cf__384\n",
            "TfPoseEstimator/Openpose/MConv_Stage6_L1_4_pointwise/BatchNorm/moving_variance/read/_385__cf__385\n",
            "TfPoseEstimator/Openpose/MConv_Stage6_L1_4_pointwise/weights/read/_386__cf__386\n",
            "TfPoseEstimator/Openpose/MConv_Stage6_L1_4_pointwise/Conv2D\n",
            "TfPoseEstimator/Openpose/MConv_Stage6_L1_4_pointwise/BatchNorm/FusedBatchNorm\n",
            "TfPoseEstimator/Openpose/MConv_Stage6_L1_4_pointwise/Relu\n",
            "TfPoseEstimator/Openpose/MConv_Stage6_L1_5_depthwise/depthwise_weights/read/_387__cf__387\n",
            "TfPoseEstimator/Openpose/MConv_Stage6_L1_5_depthwise/depthwise\n",
            "TfPoseEstimator/Openpose/MConv_Stage6_L1_5_pointwise/BatchNorm/beta/read/_388__cf__388\n",
            "TfPoseEstimator/Openpose/MConv_Stage6_L1_5_pointwise/BatchNorm/moving_mean/read/_389__cf__389\n",
            "TfPoseEstimator/Openpose/MConv_Stage6_L1_5_pointwise/BatchNorm/moving_variance/read/_390__cf__390\n",
            "TfPoseEstimator/Openpose/MConv_Stage6_L1_5_pointwise/weights/read/_391__cf__391\n",
            "TfPoseEstimator/Openpose/MConv_Stage6_L1_5_pointwise/Conv2D\n",
            "TfPoseEstimator/Openpose/MConv_Stage6_L1_5_pointwise/BatchNorm/FusedBatchNorm\n",
            "TfPoseEstimator/Openpose/MConv_Stage6_L2_1_depthwise/depthwise_weights/read/_392__cf__392\n",
            "TfPoseEstimator/Openpose/MConv_Stage6_L2_1_depthwise/depthwise\n",
            "TfPoseEstimator/Openpose/MConv_Stage6_L2_1_pointwise/BatchNorm/beta/read/_393__cf__393\n",
            "TfPoseEstimator/Openpose/MConv_Stage6_L2_1_pointwise/BatchNorm/moving_mean/read/_394__cf__394\n",
            "TfPoseEstimator/Openpose/MConv_Stage6_L2_1_pointwise/BatchNorm/moving_variance/read/_395__cf__395\n",
            "TfPoseEstimator/Openpose/MConv_Stage6_L2_1_pointwise/weights/read/_396__cf__396\n",
            "TfPoseEstimator/Openpose/MConv_Stage6_L2_1_pointwise/Conv2D\n",
            "TfPoseEstimator/Openpose/MConv_Stage6_L2_1_pointwise/BatchNorm/FusedBatchNorm\n",
            "TfPoseEstimator/Openpose/MConv_Stage6_L2_1_pointwise/Relu\n",
            "TfPoseEstimator/Openpose/MConv_Stage6_L2_2_depthwise/depthwise_weights/read/_397__cf__397\n",
            "TfPoseEstimator/Openpose/MConv_Stage6_L2_2_depthwise/depthwise\n",
            "TfPoseEstimator/Openpose/MConv_Stage6_L2_2_pointwise/BatchNorm/beta/read/_398__cf__398\n",
            "TfPoseEstimator/Openpose/MConv_Stage6_L2_2_pointwise/BatchNorm/moving_mean/read/_399__cf__399\n",
            "TfPoseEstimator/Openpose/MConv_Stage6_L2_2_pointwise/BatchNorm/moving_variance/read/_400__cf__400\n",
            "TfPoseEstimator/Openpose/MConv_Stage6_L2_2_pointwise/weights/read/_401__cf__401\n",
            "TfPoseEstimator/Openpose/MConv_Stage6_L2_2_pointwise/Conv2D\n",
            "TfPoseEstimator/Openpose/MConv_Stage6_L2_2_pointwise/BatchNorm/FusedBatchNorm\n",
            "TfPoseEstimator/Openpose/MConv_Stage6_L2_2_pointwise/Relu\n",
            "TfPoseEstimator/Openpose/MConv_Stage6_L2_3_depthwise/depthwise_weights/read/_402__cf__402\n",
            "TfPoseEstimator/Openpose/MConv_Stage6_L2_3_depthwise/depthwise\n",
            "TfPoseEstimator/Openpose/MConv_Stage6_L2_3_pointwise/BatchNorm/beta/read/_403__cf__403\n",
            "TfPoseEstimator/Openpose/MConv_Stage6_L2_3_pointwise/BatchNorm/moving_mean/read/_404__cf__404\n",
            "TfPoseEstimator/Openpose/MConv_Stage6_L2_3_pointwise/BatchNorm/moving_variance/read/_405__cf__405\n",
            "TfPoseEstimator/Openpose/MConv_Stage6_L2_3_pointwise/weights/read/_406__cf__406\n",
            "TfPoseEstimator/Openpose/MConv_Stage6_L2_3_pointwise/Conv2D\n",
            "TfPoseEstimator/Openpose/MConv_Stage6_L2_3_pointwise/BatchNorm/FusedBatchNorm\n",
            "TfPoseEstimator/Openpose/MConv_Stage6_L2_3_pointwise/Relu\n",
            "TfPoseEstimator/Openpose/MConv_Stage6_L2_4_depthwise/depthwise_weights/read/_407__cf__407\n",
            "TfPoseEstimator/Openpose/MConv_Stage6_L2_4_depthwise/depthwise\n",
            "TfPoseEstimator/Openpose/MConv_Stage6_L2_4_pointwise/BatchNorm/beta/read/_408__cf__408\n",
            "TfPoseEstimator/Openpose/MConv_Stage6_L2_4_pointwise/BatchNorm/moving_mean/read/_409__cf__409\n",
            "TfPoseEstimator/Openpose/MConv_Stage6_L2_4_pointwise/BatchNorm/moving_variance/read/_410__cf__410\n",
            "TfPoseEstimator/Openpose/MConv_Stage6_L2_4_pointwise/weights/read/_411__cf__411\n",
            "TfPoseEstimator/Openpose/MConv_Stage6_L2_4_pointwise/Conv2D\n",
            "TfPoseEstimator/Openpose/MConv_Stage6_L2_4_pointwise/BatchNorm/FusedBatchNorm\n",
            "TfPoseEstimator/Openpose/MConv_Stage6_L2_4_pointwise/Relu\n",
            "TfPoseEstimator/Openpose/MConv_Stage6_L2_5_depthwise/depthwise_weights/read/_412__cf__412\n",
            "TfPoseEstimator/Openpose/MConv_Stage6_L2_5_depthwise/depthwise\n",
            "TfPoseEstimator/Openpose/MConv_Stage6_L2_5_pointwise/BatchNorm/beta/read/_413__cf__413\n",
            "TfPoseEstimator/Openpose/MConv_Stage6_L2_5_pointwise/BatchNorm/moving_mean/read/_414__cf__414\n",
            "TfPoseEstimator/Openpose/MConv_Stage6_L2_5_pointwise/BatchNorm/moving_variance/read/_415__cf__415\n",
            "TfPoseEstimator/Openpose/MConv_Stage6_L2_5_pointwise/weights/read/_416__cf__416\n",
            "TfPoseEstimator/Openpose/MConv_Stage6_L2_5_pointwise/Conv2D\n",
            "TfPoseEstimator/Openpose/MConv_Stage6_L2_5_pointwise/BatchNorm/FusedBatchNorm\n",
            "TfPoseEstimator/Openpose/concat_stage7\n",
            "WARNING:tensorflow:From /content/tf-pose-estimation/tf_pose/estimator.py:375: The name tf.placeholder is deprecated. Please use tf.compat.v1.placeholder instead.\n",
            "\n"
          ],
          "name": "stdout"
        },
        {
          "output_type": "stream",
          "text": [
            "2020-11-18 16:40:19,632 WARNING From /content/tf-pose-estimation/tf_pose/estimator.py:375: The name tf.placeholder is deprecated. Please use tf.compat.v1.placeholder instead.\n",
            "\n"
          ],
          "name": "stderr"
        },
        {
          "output_type": "stream",
          "text": [
            "WARNING:tensorflow:From /content/tf-pose-estimation/tf_pose/estimator.py:376: The name tf.image.resize_area is deprecated. Please use tf.compat.v1.image.resize_area instead.\n",
            "\n"
          ],
          "name": "stdout"
        },
        {
          "output_type": "stream",
          "text": [
            "2020-11-18 16:40:19,636 WARNING From /content/tf-pose-estimation/tf_pose/estimator.py:376: The name tf.image.resize_area is deprecated. Please use tf.compat.v1.image.resize_area instead.\n",
            "\n"
          ],
          "name": "stderr"
        },
        {
          "output_type": "stream",
          "text": [
            "WARNING:tensorflow:From /content/tf-pose-estimation/tf_pose/tensblur/smoother.py:96: The name tf.variable_scope is deprecated. Please use tf.compat.v1.variable_scope instead.\n",
            "\n"
          ],
          "name": "stdout"
        },
        {
          "output_type": "stream",
          "text": [
            "2020-11-18 16:40:19,672 WARNING From /content/tf-pose-estimation/tf_pose/tensblur/smoother.py:96: The name tf.variable_scope is deprecated. Please use tf.compat.v1.variable_scope instead.\n",
            "\n"
          ],
          "name": "stderr"
        },
        {
          "output_type": "stream",
          "text": [
            "WARNING:tensorflow:From /content/tf-pose-estimation/tf_pose/estimator.py:388: where (from tensorflow.python.ops.array_ops) is deprecated and will be removed in a future version.\n",
            "Instructions for updating:\n",
            "Use tf.where in 2.0, which has the same broadcast rule as np.where\n"
          ],
          "name": "stdout"
        },
        {
          "output_type": "stream",
          "text": [
            "2020-11-18 16:40:19,701 WARNING From /content/tf-pose-estimation/tf_pose/estimator.py:388: where (from tensorflow.python.ops.array_ops) is deprecated and will be removed in a future version.\n",
            "Instructions for updating:\n",
            "Use tf.where in 2.0, which has the same broadcast rule as np.where\n"
          ],
          "name": "stderr"
        },
        {
          "output_type": "stream",
          "text": [
            "WARNING:tensorflow:From /content/tf-pose-estimation/tf_pose/estimator.py:393: The name tf.variables_initializer is deprecated. Please use tf.compat.v1.variables_initializer instead.\n",
            "\n"
          ],
          "name": "stdout"
        },
        {
          "output_type": "stream",
          "text": [
            "2020-11-18 16:40:19,711 WARNING From /content/tf-pose-estimation/tf_pose/estimator.py:393: The name tf.variables_initializer is deprecated. Please use tf.compat.v1.variables_initializer instead.\n",
            "\n"
          ],
          "name": "stderr"
        },
        {
          "output_type": "stream",
          "text": [
            "WARNING:tensorflow:From /content/tf-pose-estimation/tf_pose/estimator.py:394: The name tf.global_variables is deprecated. Please use tf.compat.v1.global_variables instead.\n",
            "\n"
          ],
          "name": "stdout"
        },
        {
          "output_type": "stream",
          "text": [
            "2020-11-18 16:40:19,719 WARNING From /content/tf-pose-estimation/tf_pose/estimator.py:394: The name tf.global_variables is deprecated. Please use tf.compat.v1.global_variables instead.\n",
            "\n"
          ],
          "name": "stderr"
        },
        {
          "output_type": "stream",
          "text": [
            "WARNING:tensorflow:From /content/tf-pose-estimation/tf_pose/estimator.py:396: The name tf.report_uninitialized_variables is deprecated. Please use tf.compat.v1.report_uninitialized_variables instead.\n",
            "\n"
          ],
          "name": "stdout"
        },
        {
          "output_type": "stream",
          "text": [
            "2020-11-18 16:40:19,725 WARNING From /content/tf-pose-estimation/tf_pose/estimator.py:396: The name tf.report_uninitialized_variables is deprecated. Please use tf.compat.v1.report_uninitialized_variables instead.\n",
            "\n"
          ],
          "name": "stderr"
        }
      ]
    },
    {
      "cell_type": "markdown",
      "metadata": {
        "id": "zw2ZGym-4ty2"
      },
      "source": [
        "姿勢推定結果を表示します。"
      ]
    },
    {
      "cell_type": "code",
      "metadata": {
        "id": "fFKGwVpqatq9",
        "colab": {
          "base_uri": "https://localhost:8080/",
          "height": 286
        },
        "outputId": "fd40d443-fe02-46fa-d227-6f38d19faae1"
      },
      "source": [
        "plt.imshow(image[:, :, ::-1])"
      ],
      "execution_count": null,
      "outputs": [
        {
          "output_type": "execute_result",
          "data": {
            "text/plain": [
              "<matplotlib.image.AxesImage at 0x7f2300058b00>"
            ]
          },
          "metadata": {
            "tags": []
          },
          "execution_count": 7
        },
        {
          "output_type": "display_data",
          "data": {
            "image/png": "[encoded data removed]",
            "text/plain": [
              "<Figure size 432x288 with 1 Axes>"
            ]
          },
          "metadata": {
            "tags": [],
            "needs_background": "light"
          }
        }
      ]
    },
    {
      "cell_type": "markdown",
      "metadata": {
        "id": "HtLCJ1cjdm4Q"
      },
      "source": [
        "## カメラ"
      ]
    },
    {
      "cell_type": "markdown",
      "metadata": {
        "id": "QLDEKIWa8cml"
      },
      "source": [
        "Webカメラを使うJavascriptのコードをダウンロードします。"
      ]
    },
    {
      "cell_type": "code",
      "metadata": {
        "id": "o5zKeS1P8epn",
        "colab": {
          "base_uri": "https://localhost:8080/"
        },
        "outputId": "6b13e715-fd90-49ca-d315-085b49c01555"
      },
      "source": [
        "!wget https://raw.githubusercontent.com/karaage0703/karaage-ai-book/master/util/colab_camera.py"
      ],
      "execution_count": null,
      "outputs": [
        {
          "output_type": "stream",
          "text": [
            "--2020-11-18 16:40:37--  https://raw.githubusercontent.com/karaage0703/karaage-ai-book/master/util/colab_camera.py\n",
            "Resolving raw.githubusercontent.com (raw.githubusercontent.com)... 151.101.0.133, 151.101.64.133, 151.101.128.133, ...\n",
            "Connecting to raw.githubusercontent.com (raw.githubusercontent.com)|151.101.0.133|:443... connected.\n",
            "HTTP request sent, awaiting response... 200 OK\n",
            "Length: 3036 (3.0K) [text/plain]\n",
            "Saving to: ‘colab_camera.py’\n",
            "\n",
            "colab_camera.py     100%[===================>]   2.96K  --.-KB/s    in 0s      \n",
            "\n",
            "2020-11-18 16:40:37 (40.8 MB/s) - ‘colab_camera.py’ saved [3036/3036]\n",
            "\n"
          ],
          "name": "stdout"
        }
      ]
    },
    {
      "cell_type": "markdown",
      "metadata": {
        "id": "hPf_YnEH8hbV"
      },
      "source": [
        "コードを読み込みます。"
      ]
    },
    {
      "cell_type": "code",
      "metadata": {
        "id": "lpX5ho3O8jOr"
      },
      "source": [
        "import colab_camera"
      ],
      "execution_count": null,
      "outputs": []
    },
    {
      "cell_type": "markdown",
      "metadata": {
        "id": "_zGuJNFp9rep"
      },
      "source": [
        "画像処理のコードを書きます"
      ]
    },
    {
      "cell_type": "code",
      "metadata": {
        "id": "bPRAwc-Zdpbl"
      },
      "source": [
        "import IPython\n",
        "from google.colab import output\n",
        "import cv2\n",
        "import numpy as np\n",
        "from PIL import Image\n",
        "from io import BytesIO\n",
        "import base64\n",
        "\n",
        "def run(img_str):\n",
        "  # decode to image\n",
        "  decimg = base64.b64decode(img_str.split(',')[1], validate=True)\n",
        "  decimg = Image.open(BytesIO(decimg))\n",
        "  decimg = np.array(decimg, dtype=np.uint8); \n",
        "  decimg = cv2.cvtColor(decimg, cv2.COLOR_BGR2RGB)\n",
        "\n",
        "  # pose estimation\n",
        "  humans = e.inference(decimg, resize_to_default=1, upsample_size=4)\n",
        "  out_img = TfPoseEstimator.draw_humans(decimg, humans, imgcopy=False)\n",
        "\n",
        "  # encode to string\n",
        "  _, encimg = cv2.imencode(\".jpg\", out_img,\n",
        "      [int(cv2.IMWRITE_JPEG_QUALITY), 80])\n",
        "  img_str = encimg.tobytes()\n",
        "  img_str = (\"data:image/jpeg;base64,\" +\n",
        "      base64.b64encode(img_str).decode('utf-8'))\n",
        "  return IPython.display.JSON({'img_str': img_str})\n",
        "\n",
        "output.register_callback('notebook.run', run)"
      ],
      "execution_count": null,
      "outputs": []
    },
    {
      "cell_type": "code",
      "metadata": {
        "id": "BIc-1NCLeXiK"
      },
      "source": [
        "colab_camera.use_cam()"
      ],
      "execution_count": null,
      "outputs": []
    },
    {
      "cell_type": "markdown",
      "metadata": {
        "id": "sV0WmXqRuOpt"
      },
      "source": [
        "### アニメ化"
      ]
    },
    {
      "cell_type": "markdown",
      "metadata": {
        "id": "gJJhFSAr5JxL"
      },
      "source": [
        "顔を上書きする機能を準備します。\n",
        "\n",
        "顔を上書きする関数(face overlay)を importします。"
      ]
    },
    {
      "cell_type": "code",
      "metadata": {
        "id": "FrX1V_4s5TDX"
      },
      "source": [
        "from tf_pose.estimator import face_overlay"
      ],
      "execution_count": null,
      "outputs": []
    },
    {
      "cell_type": "markdown",
      "metadata": {
        "id": "e6stke0r0gIp"
      },
      "source": [
        "顔に上書きするアイコンをダウンロードします。"
      ]
    },
    {
      "cell_type": "code",
      "metadata": {
        "id": "8Jus5zAs0k28",
        "colab": {
          "base_uri": "https://localhost:8080/"
        },
        "outputId": "5fc445cd-3918-4765-ff48-748bd27d99e4"
      },
      "source": [
        "!wget https://raw.githubusercontent.com/karaage0703/karaage_icon/master/karaage_icon.png"
      ],
      "execution_count": null,
      "outputs": [
        {
          "output_type": "stream",
          "text": [
            "--2020-11-18 16:41:02--  https://raw.githubusercontent.com/karaage0703/karaage_icon/master/karaage_icon.png\n",
            "Resolving raw.githubusercontent.com (raw.githubusercontent.com)... 151.101.0.133, 151.101.64.133, 151.101.128.133, ...\n",
            "Connecting to raw.githubusercontent.com (raw.githubusercontent.com)|151.101.0.133|:443... connected.\n",
            "HTTP request sent, awaiting response... 200 OK\n",
            "Length: 78311 (76K) [image/png]\n",
            "Saving to: ‘karaage_icon.png.1’\n",
            "\n",
            "\rkaraage_icon.png.1    0%[                    ]       0  --.-KB/s               \rkaraage_icon.png.1  100%[===================>]  76.48K  --.-KB/s    in 0.007s  \n",
            "\n",
            "2020-11-18 16:41:02 (10.1 MB/s) - ‘karaage_icon.png.1’ saved [78311/78311]\n",
            "\n"
          ],
          "name": "stdout"
        }
      ]
    },
    {
      "cell_type": "markdown",
      "metadata": {
        "id": "EWbvKuD5vOJS"
      },
      "source": [
        "顔検出するための、ハールライク特徴量のデータファイルをダウンロードします。"
      ]
    },
    {
      "cell_type": "code",
      "metadata": {
        "id": "J6jaGkNevBly",
        "colab": {
          "base_uri": "https://localhost:8080/"
        },
        "outputId": "15cb5b61-e509-4d43-d842-405ed2da0624"
      },
      "source": [
        "!wget https://raw.githubusercontent.com/opencv/opencv/master/data/haarcascades/haarcascade_frontalface_alt.xml"
      ],
      "execution_count": null,
      "outputs": [
        {
          "output_type": "stream",
          "text": [
            "--2020-11-18 16:41:05--  https://raw.githubusercontent.com/opencv/opencv/master/data/haarcascades/haarcascade_frontalface_alt.xml\n",
            "Resolving raw.githubusercontent.com (raw.githubusercontent.com)... 151.101.0.133, 151.101.64.133, 151.101.128.133, ...\n",
            "Connecting to raw.githubusercontent.com (raw.githubusercontent.com)|151.101.0.133|:443... connected.\n",
            "HTTP request sent, awaiting response... 200 OK\n",
            "Length: 676709 (661K) [text/plain]\n",
            "Saving to: ‘haarcascade_frontalface_alt.xml’\n",
            "\n",
            "haarcascade_frontal 100%[===================>] 660.85K  --.-KB/s    in 0.03s   \n",
            "\n",
            "2020-11-18 16:41:06 (25.4 MB/s) - ‘haarcascade_frontalface_alt.xml’ saved [676709/676709]\n",
            "\n"
          ],
          "name": "stdout"
        }
      ]
    },
    {
      "cell_type": "markdown",
      "metadata": {
        "id": "xXjSWwHs47pO"
      },
      "source": [
        "cascadeモデルとしてハールライク特徴量を読み込みます"
      ]
    },
    {
      "cell_type": "code",
      "metadata": {
        "id": "XtoYhl6Su_J3"
      },
      "source": [
        "cascade = cv2.CascadeClassifier('./haarcascade_frontalface_alt.xml')"
      ],
      "execution_count": null,
      "outputs": []
    },
    {
      "cell_type": "markdown",
      "metadata": {
        "id": "_UHPMQqMu1h6"
      },
      "source": [
        "アニメ化する関数を定義します。"
      ]
    },
    {
      "cell_type": "code",
      "metadata": {
        "id": "NtzacRY2eZ5F"
      },
      "source": [
        "def run(img_str):\n",
        "  # decode to image\n",
        "  decimg = base64.b64decode(img_str.split(',')[1], validate=True)\n",
        "  decimg = Image.open(BytesIO(decimg))\n",
        "  decimg = np.array(decimg, dtype=np.uint8); \n",
        "  decimg = cv2.cvtColor(decimg, cv2.COLOR_BGR2RGB)\n",
        "\n",
        "  # pose estimation\n",
        "  image_org = decimg.copy()\n",
        "  humans = e.inference(decimg, resize_to_default=1, upsample_size=4)\n",
        "  image_tmp = TfPoseEstimator.draw_humans(decimg, humans,\n",
        "      imgcopy=False, mode='anime')\n",
        "  out_img = face_overlay(image_org, image_tmp, cascade)\n",
        "\n",
        "  # encode to string\n",
        "  _, encimg = cv2.imencode(\".jpg\", out_img,\n",
        "      [int(cv2.IMWRITE_JPEG_QUALITY), 80])\n",
        "  img_str = encimg.tobytes()\n",
        "  img_str = (\"data:image/jpeg;base64,\" +\n",
        "      base64.b64encode(img_str).decode('utf-8'))\n",
        "  return IPython.display.JSON({'img_str': img_str})\n",
        "\n",
        "output.register_callback('notebook.run', run)"
      ],
      "execution_count": null,
      "outputs": []
    },
    {
      "cell_type": "code",
      "metadata": {
        "id": "ry13WQ5huQt2"
      },
      "source": [
        "colab_camera.use_cam()"
      ],
      "execution_count": null,
      "outputs": []
    }
  ]
}